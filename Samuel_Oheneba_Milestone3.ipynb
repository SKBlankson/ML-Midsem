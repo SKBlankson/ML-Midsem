{
 "cells": [
  {
   "cell_type": "markdown",
   "id": "63d0c32f-9c6a-45af-97ef-f7e681c2bcd3",
   "metadata": {},
   "source": [
    "# Import Libraries"
   ]
  },
  {
   "cell_type": "code",
   "execution_count": 1,
   "id": "14e59c1e-25b2-49d3-b90e-bda1490cc801",
   "metadata": {},
   "outputs": [
    {
     "ename": "ModuleNotFoundError",
     "evalue": "No module named 'spacy'",
     "output_type": "error",
     "traceback": [
      "\u001b[0;31m---------------------------------------------------------------------------\u001b[0m",
      "\u001b[0;31mModuleNotFoundError\u001b[0m                       Traceback (most recent call last)",
      "Cell \u001b[0;32mIn[1], line 10\u001b[0m\n\u001b[1;32m      7\u001b[0m \u001b[38;5;28;01mimport\u001b[39;00m \u001b[38;5;21;01mcsv\u001b[39;00m\n\u001b[1;32m      8\u001b[0m \u001b[38;5;28;01mimport\u001b[39;00m \u001b[38;5;21;01mtorch\u001b[39;00m\n\u001b[0;32m---> 10\u001b[0m \u001b[38;5;28;01mimport\u001b[39;00m \u001b[38;5;21;01mspacy\u001b[39;00m\n\u001b[1;32m     11\u001b[0m \u001b[38;5;28;01mfrom\u001b[39;00m \u001b[38;5;21;01mtqdm\u001b[39;00m \u001b[38;5;28;01mimport\u001b[39;00m tqdm\n\u001b[1;32m     12\u001b[0m \u001b[38;5;28;01mimport\u001b[39;00m \u001b[38;5;21;01mre\u001b[39;00m\n",
      "\u001b[0;31mModuleNotFoundError\u001b[0m: No module named 'spacy'"
     ]
    }
   ],
   "source": [
    "import os\n",
    "import pandas as pd\n",
    "import numpy as np\n",
    "from d2l import torch as d2l\n",
    "from torch import nn\n",
    "from sklearn.model_selection import train_test_split\n",
    "import csv\n",
    "import torch\n",
    "\n",
    "import spacy\n",
    "from tqdm import tqdm\n",
    "import re\n",
    "import time\n",
    "import pickle"
   ]
  },
  {
   "cell_type": "code",
   "execution_count": null,
   "id": "89c7d82e-c212-4016-948d-40cd0c08337b",
   "metadata": {},
   "outputs": [],
   "source": [
    "import os\n",
    "\n",
    "# Check if running in a conda environment\n",
    "if 'CONDA_DEFAULT_ENV' in os.environ:\n",
    "    print(\"Running in a conda environment. Conda environment:\", os.environ['CONDA_DEFAULT_ENV'])\n",
    "else:\n",
    "    print(\"Not running in a conda environment.\")\n",
    "\n",
    "# Check if running in a virtual environment\n",
    "if 'VIRTUAL_ENV' in os.environ:\n",
    "    print(\"Running in a virtual environment. Virtual environment:\", os.environ['VIRTUAL_ENV'])\n",
    "else:\n",
    "    print(\"Not running in a virtual environment.\")"
   ]
  },
  {
   "cell_type": "markdown",
   "id": "8e59b2d7-64c9-4d3d-a417-4bd4818fe168",
   "metadata": {},
   "source": [
    "# Load Dataset"
   ]
  },
  {
   "cell_type": "code",
   "execution_count": null,
   "id": "44050319-8525-4e24-a021-8970b361611e",
   "metadata": {},
   "outputs": [],
   "source": [
    "kaggle_data = pd.read_json('train.json')\n",
    "kaggle_data.head()"
   ]
  },
  {
   "cell_type": "code",
   "execution_count": null,
   "id": "220cdeb8-42ae-4c69-bae6-156caad29060",
   "metadata": {},
   "outputs": [],
   "source": [
    "# Split the first 90% of the data as the train set\n",
    "test_size = round(len(kaggle_data)*0.1) \n",
    "train_size = len(kaggle_data) - test_size\n",
    "\n",
    "# train_set, test_set = train_test_split(kaggle_data, test_size=len(kaggle_data)-train_size, random_state = False)\n",
    "train_set = kaggle_data.iloc[:train_size]\n",
    "test_set = kaggle_data.iloc[train_size:]\n",
    "\n",
    "# train_set\n",
    "test_size\n",
    "\n",
    "kaggle_data['full_text']"
   ]
  },
  {
   "cell_type": "code",
   "execution_count": null,
   "id": "3a9b4289-19f7-452e-8457-637ab6386a98",
   "metadata": {},
   "outputs": [],
   "source": [
    "essays = kaggle_data['full_text'].tolist()\n",
    "tokens = kaggle_data['tokens'].tolist()"
   ]
  },
  {
   "cell_type": "markdown",
   "id": "d5c5c3d8-0215-4ef1-9670-1f26939635b4",
   "metadata": {},
   "source": [
    "# Word Embedding"
   ]
  },
  {
   "cell_type": "code",
   "execution_count": null,
   "id": "2cf301db-ef45-4bd9-8b81-2925460c9235",
   "metadata": {},
   "outputs": [],
   "source": [
    "import tensorflow_hub as hub\n",
    "import tensorflow as tf\n",
    "\n",
    "elmo = hub.Module(\"https://tfhub.dev/google/elmo/2\", trainable=True)"
   ]
  },
  {
   "cell_type": "code",
   "execution_count": null,
   "id": "c5eb2394-b668-430d-ab72-f11f52b543f3",
   "metadata": {},
   "outputs": [],
   "source": [
    "x = [“Nothing suits me like suit”] # Extract ELMo features \n",
    "embeddings = elmo(x, signature=”default”, as_dict=True)[“elmo”] \n",
    "embeddings.shape"
   ]
  },
  {
   "cell_type": "code",
   "execution_count": null,
   "id": "696afe32-5a5d-4181-8ebe-283cca4fbaa9",
   "metadata": {},
   "outputs": [],
   "source": []
  },
  {
   "cell_type": "code",
   "execution_count": null,
   "id": "2f7f0e24-3486-4417-ae11-7d3cbb44e2ee",
   "metadata": {},
   "outputs": [],
   "source": []
  }
 ],
 "metadata": {
  "kernelspec": {
   "display_name": "Python 3 (ipykernel)",
   "language": "python",
   "name": "python3"
  },
  "language_info": {
   "codemirror_mode": {
    "name": "ipython",
    "version": 3
   },
   "file_extension": ".py",
   "mimetype": "text/x-python",
   "name": "python",
   "nbconvert_exporter": "python",
   "pygments_lexer": "ipython3",
   "version": "3.11.5"
  }
 },
 "nbformat": 4,
 "nbformat_minor": 5
}
