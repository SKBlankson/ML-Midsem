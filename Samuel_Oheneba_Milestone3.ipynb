{
 "cells": [
  {
   "cell_type": "markdown",
   "id": "63d0c32f-9c6a-45af-97ef-f7e681c2bcd3",
   "metadata": {},
   "source": [
    "# Import Libraries"
   ]
  },
  {
   "cell_type": "code",
   "execution_count": 1,
   "id": "14e59c1e-25b2-49d3-b90e-bda1490cc801",
   "metadata": {},
   "outputs": [],
   "source": [
    "import os\n",
    "import pandas as pd\n",
    "import numpy as np\n",
    "# from d2l import torch as d2l\n",
    "# from torch import nn\n",
    "from sklearn.model_selection import train_test_split\n",
    "import csv\n",
    "# import torch"
   ]
  },
  {
   "cell_type": "code",
   "execution_count": 2,
   "id": "89c7d82e-c212-4016-948d-40cd0c08337b",
   "metadata": {},
   "outputs": [
    {
     "name": "stdout",
     "output_type": "stream",
     "text": [
      "Running in a conda environment. Conda environment: ML_Labs\n",
      "Not running in a virtual environment.\n"
     ]
    }
   ],
   "source": [
    "import os\n",
    "\n",
    "# Check if running in a conda environment\n",
    "if 'CONDA_DEFAULT_ENV' in os.environ:\n",
    "    print(\"Running in a conda environment. Conda environment:\", os.environ['CONDA_DEFAULT_ENV'])\n",
    "else:\n",
    "    print(\"Not running in a conda environment.\")\n",
    "\n",
    "# Check if running in a virtual environment\n",
    "if 'VIRTUAL_ENV' in os.environ:\n",
    "    print(\"Running in a virtual environment. Virtual environment:\", os.environ['VIRTUAL_ENV'])\n",
    "else:\n",
    "    print(\"Not running in a virtual environment.\")"
   ]
  },
  {
   "cell_type": "markdown",
   "id": "8e59b2d7-64c9-4d3d-a417-4bd4818fe168",
   "metadata": {},
   "source": [
    "# Load Dataset"
   ]
  },
  {
   "cell_type": "code",
   "execution_count": 3,
   "id": "44050319-8525-4e24-a021-8970b361611e",
   "metadata": {},
   "outputs": [
    {
     "data": {
      "text/html": [
       "<div>\n",
       "<style scoped>\n",
       "    .dataframe tbody tr th:only-of-type {\n",
       "        vertical-align: middle;\n",
       "    }\n",
       "\n",
       "    .dataframe tbody tr th {\n",
       "        vertical-align: top;\n",
       "    }\n",
       "\n",
       "    .dataframe thead th {\n",
       "        text-align: right;\n",
       "    }\n",
       "</style>\n",
       "<table border=\"1\" class=\"dataframe\">\n",
       "  <thead>\n",
       "    <tr style=\"text-align: right;\">\n",
       "      <th></th>\n",
       "      <th>document</th>\n",
       "      <th>full_text</th>\n",
       "      <th>tokens</th>\n",
       "      <th>trailing_whitespace</th>\n",
       "      <th>labels</th>\n",
       "    </tr>\n",
       "  </thead>\n",
       "  <tbody>\n",
       "    <tr>\n",
       "      <th>0</th>\n",
       "      <td>7</td>\n",
       "      <td>Design Thinking for innovation reflexion-Avril...</td>\n",
       "      <td>[Design, Thinking, for, innovation, reflexion,...</td>\n",
       "      <td>[True, True, True, True, False, False, True, F...</td>\n",
       "      <td>[O, O, O, O, O, O, O, O, O, B-NAME_STUDENT, I-...</td>\n",
       "    </tr>\n",
       "    <tr>\n",
       "      <th>1</th>\n",
       "      <td>10</td>\n",
       "      <td>Diego Estrada\\n\\nDesign Thinking Assignment\\n\\...</td>\n",
       "      <td>[Diego, Estrada, \\n\\n, Design, Thinking, Assig...</td>\n",
       "      <td>[True, False, False, True, True, False, False,...</td>\n",
       "      <td>[B-NAME_STUDENT, I-NAME_STUDENT, O, O, O, O, O...</td>\n",
       "    </tr>\n",
       "    <tr>\n",
       "      <th>2</th>\n",
       "      <td>16</td>\n",
       "      <td>Reporting process\\n\\nby Gilberto Gamboa\\n\\nCha...</td>\n",
       "      <td>[Reporting, process, \\n\\n, by, Gilberto, Gambo...</td>\n",
       "      <td>[True, False, False, True, True, False, False,...</td>\n",
       "      <td>[O, O, O, O, B-NAME_STUDENT, I-NAME_STUDENT, O...</td>\n",
       "    </tr>\n",
       "    <tr>\n",
       "      <th>3</th>\n",
       "      <td>20</td>\n",
       "      <td>Design Thinking for Innovation\\n\\nSindy Samaca...</td>\n",
       "      <td>[Design, Thinking, for, Innovation, \\n\\n, Sind...</td>\n",
       "      <td>[True, True, True, False, False, True, False, ...</td>\n",
       "      <td>[O, O, O, O, O, B-NAME_STUDENT, I-NAME_STUDENT...</td>\n",
       "    </tr>\n",
       "    <tr>\n",
       "      <th>4</th>\n",
       "      <td>56</td>\n",
       "      <td>Assignment:  Visualization Reflection  Submitt...</td>\n",
       "      <td>[Assignment, :,   , Visualization,  , Reflecti...</td>\n",
       "      <td>[False, False, False, False, False, False, Fal...</td>\n",
       "      <td>[O, O, O, O, O, O, O, O, O, O, O, O, B-NAME_ST...</td>\n",
       "    </tr>\n",
       "  </tbody>\n",
       "</table>\n",
       "</div>"
      ],
      "text/plain": [
       "   document                                          full_text  \\\n",
       "0         7  Design Thinking for innovation reflexion-Avril...   \n",
       "1        10  Diego Estrada\\n\\nDesign Thinking Assignment\\n\\...   \n",
       "2        16  Reporting process\\n\\nby Gilberto Gamboa\\n\\nCha...   \n",
       "3        20  Design Thinking for Innovation\\n\\nSindy Samaca...   \n",
       "4        56  Assignment:  Visualization Reflection  Submitt...   \n",
       "\n",
       "                                              tokens  \\\n",
       "0  [Design, Thinking, for, innovation, reflexion,...   \n",
       "1  [Diego, Estrada, \\n\\n, Design, Thinking, Assig...   \n",
       "2  [Reporting, process, \\n\\n, by, Gilberto, Gambo...   \n",
       "3  [Design, Thinking, for, Innovation, \\n\\n, Sind...   \n",
       "4  [Assignment, :,   , Visualization,  , Reflecti...   \n",
       "\n",
       "                                 trailing_whitespace  \\\n",
       "0  [True, True, True, True, False, False, True, F...   \n",
       "1  [True, False, False, True, True, False, False,...   \n",
       "2  [True, False, False, True, True, False, False,...   \n",
       "3  [True, True, True, False, False, True, False, ...   \n",
       "4  [False, False, False, False, False, False, Fal...   \n",
       "\n",
       "                                              labels  \n",
       "0  [O, O, O, O, O, O, O, O, O, B-NAME_STUDENT, I-...  \n",
       "1  [B-NAME_STUDENT, I-NAME_STUDENT, O, O, O, O, O...  \n",
       "2  [O, O, O, O, B-NAME_STUDENT, I-NAME_STUDENT, O...  \n",
       "3  [O, O, O, O, O, B-NAME_STUDENT, I-NAME_STUDENT...  \n",
       "4  [O, O, O, O, O, O, O, O, O, O, O, O, B-NAME_ST...  "
      ]
     },
     "execution_count": 3,
     "metadata": {},
     "output_type": "execute_result"
    }
   ],
   "source": [
    "kaggle_data = pd.read_json('train.json')\n",
    "kaggle_data.head()"
   ]
  },
  {
   "cell_type": "code",
   "execution_count": 4,
   "id": "220cdeb8-42ae-4c69-bae6-156caad29060",
   "metadata": {},
   "outputs": [
    {
     "data": {
      "text/plain": [
       "0       Design Thinking for innovation reflexion-Avril...\n",
       "1       Diego Estrada\\n\\nDesign Thinking Assignment\\n\\...\n",
       "2       Reporting process\\n\\nby Gilberto Gamboa\\n\\nCha...\n",
       "3       Design Thinking for Innovation\\n\\nSindy Samaca...\n",
       "4       Assignment:  Visualization Reflection  Submitt...\n",
       "                              ...                        \n",
       "6802    EXAMPLE – JOURNEY MAP\\n\\nTHE CHALLENGE    My w...\n",
       "6803    Why Mind Mapping?\\n\\nMind maps are graphical r...\n",
       "6804    Challenge\\n\\nSo, a few months back, I had chos...\n",
       "6805    Brainstorming\\n\\nChallenge & Selection\\n\\nBrai...\n",
       "6806    Mind Mapping\\n\\nChallenge\\n\\nMy consulting tea...\n",
       "Name: full_text, Length: 6807, dtype: object"
      ]
     },
     "execution_count": 4,
     "metadata": {},
     "output_type": "execute_result"
    }
   ],
   "source": [
    "# Split the first 90% of the data as the train set\n",
    "test_size = round(len(kaggle_data)*0.1) \n",
    "train_size = len(kaggle_data) - test_size\n",
    "\n",
    "# train_set, test_set = train_test_split(kaggle_data, test_size=len(kaggle_data)-train_size, random_state = False)\n",
    "train_set = kaggle_data.iloc[:train_size].copy()\n",
    "test_set = kaggle_data.iloc[train_size:].copy()\n",
    "\n",
    "# train_set\n",
    "test_size\n",
    "\n",
    "kaggle_data['full_text']"
   ]
  },
  {
   "cell_type": "code",
   "execution_count": 1,
   "id": "3a9b4289-19f7-452e-8457-637ab6386a98",
   "metadata": {},
   "outputs": [
    {
     "ename": "NameError",
     "evalue": "name 'kaggle_data' is not defined",
     "output_type": "error",
     "traceback": [
      "\u001b[1;31m---------------------------------------------------------------------------\u001b[0m",
      "\u001b[1;31mNameError\u001b[0m                                 Traceback (most recent call last)",
      "Cell \u001b[1;32mIn[1], line 1\u001b[0m\n\u001b[1;32m----> 1\u001b[0m essays \u001b[38;5;241m=\u001b[39m \u001b[43mkaggle_data\u001b[49m[\u001b[38;5;124m'\u001b[39m\u001b[38;5;124mfull_text\u001b[39m\u001b[38;5;124m'\u001b[39m]\u001b[38;5;241m.\u001b[39mtolist()\n\u001b[0;32m      2\u001b[0m tokens \u001b[38;5;241m=\u001b[39m kaggle_data[\u001b[38;5;124m'\u001b[39m\u001b[38;5;124mtokens\u001b[39m\u001b[38;5;124m'\u001b[39m]\u001b[38;5;241m.\u001b[39mtolist()\n\u001b[0;32m      4\u001b[0m essays\n",
      "\u001b[1;31mNameError\u001b[0m: name 'kaggle_data' is not defined"
     ]
    }
   ],
   "source": [
    "essays = kaggle_data['full_text'].tolist()\n",
    "tokens = kaggle_data['tokens'].tolist()\n",
    "\n",
    "essays"
   ]
  },
  {
   "cell_type": "markdown",
   "id": "d5c5c3d8-0215-4ef1-9670-1f26939635b4",
   "metadata": {},
   "source": [
    "# Word Embedding"
   ]
  },
  {
   "cell_type": "code",
   "execution_count": 6,
   "id": "2cf301db-ef45-4bd9-8b81-2925460c9235",
   "metadata": {},
   "outputs": [],
   "source": [
    "import pandas as pd\n",
    "import numpy as np\n",
    "import spacy\n",
    "from tqdm import tqdm\n",
    "import re\n",
    "import time\n",
    "import pickle\n",
    "pd.set_option('display.max_colwidth', 200)"
   ]
  },
  {
   "cell_type": "code",
   "execution_count": 7,
   "id": "c5eb2394-b668-430d-ab72-f11f52b543f3",
   "metadata": {},
   "outputs": [],
   "source": [
    "# import spaCy's language model\n",
    "nlp = spacy.load('en_core_web_sm', disable=['parser', 'ner'])\n",
    "\n",
    "# function to lemmatize text\n",
    "def lemmatization(texts):\n",
    "    output = []\n",
    "    for i in texts:\n",
    "        s = [token.lemma_ for token in nlp(i)]\n",
    "        output.append(' '.join(s))\n",
    "    return output"
   ]
  },
  {
   "cell_type": "code",
   "execution_count": 8,
   "id": "89b5b3f9-31f9-4332-b22e-09563f4c4e1a",
   "metadata": {},
   "outputs": [],
   "source": [
    "test_set['lemmatized_text'] = lemmatization(test_set['full_text'])"
   ]
  },
  {
   "cell_type": "code",
   "execution_count": 9,
   "id": "c9d99cf7-ddf3-481a-b1bf-fba88ff7155c",
   "metadata": {},
   "outputs": [],
   "source": [
    "train_set['lemmatized_text'] = lemmatization(train_set['full_text'])"
   ]
  },
  {
   "cell_type": "code",
   "execution_count": 10,
   "id": "cbed1506-27dc-487b-b005-09f1f8842604",
   "metadata": {},
   "outputs": [],
   "source": [
    "train_set.to_csv(\"lem_train_set.csv\", index=False)"
   ]
  },
  {
   "cell_type": "code",
   "execution_count": 20,
   "id": "daac06fa-77a6-4ff1-87b0-055bff8332ee",
   "metadata": {},
   "outputs": [
    {
     "data": {
      "text/plain": [
       "<tensorflow.python.saved_model.load.Loader._recreate_base_user_object.<locals>._UserObject at 0x1d2bf258ca0>"
      ]
     },
     "execution_count": 20,
     "metadata": {},
     "output_type": "execute_result"
    }
   ],
   "source": [
    "import tensorflow_hub as hub\n",
    "import tensorflow as tf\n",
    "\n",
    "elmo = hub.load(\"./saved_model\")\n",
    "\n",
    "# elmo = tf.keras.layers.TFSMLayer(\"./saved_model\", call_endpoint='serving_default')\n",
    "elmo"
   ]
  },
  {
   "cell_type": "code",
   "execution_count": 21,
   "id": "7e613449-76da-4ec8-b90f-5ae90384a25c",
   "metadata": {
    "scrolled": true
   },
   "outputs": [
    {
     "ename": "KeyError",
     "evalue": "'default'",
     "output_type": "error",
     "traceback": [
      "\u001b[1;31m---------------------------------------------------------------------------\u001b[0m",
      "\u001b[1;31mKeyError\u001b[0m                                  Traceback (most recent call last)",
      "Cell \u001b[1;32mIn[21], line 8\u001b[0m\n\u001b[0;32m      5\u001b[0m sequence_len \u001b[38;5;241m=\u001b[39m tf\u001b[38;5;241m.\u001b[39mconstant([\u001b[38;5;28mlen\u001b[39m(tokens) \u001b[38;5;28;01mfor\u001b[39;00m tokens \u001b[38;5;129;01min\u001b[39;00m kaggle_data[\u001b[38;5;124m'\u001b[39m\u001b[38;5;124mtokens\u001b[39m\u001b[38;5;124m'\u001b[39m]])\n\u001b[0;32m      7\u001b[0m \u001b[38;5;66;03m# Pass the tensor to the Elmo model\u001b[39;00m\n\u001b[1;32m----> 8\u001b[0m embeddings \u001b[38;5;241m=\u001b[39m \u001b[43melmo\u001b[49m\u001b[38;5;241;43m.\u001b[39;49m\u001b[43msignatures\u001b[49m\u001b[43m[\u001b[49m\u001b[38;5;124;43m'\u001b[39;49m\u001b[38;5;124;43mdefault\u001b[39;49m\u001b[38;5;124;43m'\u001b[39;49m\u001b[43m]\u001b[49m(text\u001b[38;5;241m=\u001b[39minput_text)\n",
      "File \u001b[1;32m~\\miniconda3\\envs\\ML_Labs\\lib\\site-packages\\tensorflow\\python\\saved_model\\signature_serialization.py:302\u001b[0m, in \u001b[0;36m_SignatureMap.__getitem__\u001b[1;34m(self, key)\u001b[0m\n\u001b[0;32m    301\u001b[0m \u001b[38;5;28;01mdef\u001b[39;00m \u001b[38;5;21m__getitem__\u001b[39m(\u001b[38;5;28mself\u001b[39m, key):\n\u001b[1;32m--> 302\u001b[0m   \u001b[38;5;28;01mreturn\u001b[39;00m \u001b[38;5;28;43mself\u001b[39;49m\u001b[38;5;241;43m.\u001b[39;49m\u001b[43m_signatures\u001b[49m\u001b[43m[\u001b[49m\u001b[43mkey\u001b[49m\u001b[43m]\u001b[49m\n",
      "\u001b[1;31mKeyError\u001b[0m: 'default'"
     ]
    }
   ],
   "source": [
    "# Convert the input text into a tensor\n",
    "input_text = tf.constant(['Thanks'])\n",
    "trial = []\n",
    "\n",
    "sequence_len = tf.constant([len(tokens) for tokens in kaggle_data['tokens']])\n",
    "\n",
    "# Pass the tensor to the Elmo model\n",
    "embeddings = elmo.signatures['default'](text=input_text)"
   ]
  },
  {
   "cell_type": "code",
   "execution_count": null,
   "id": "092c69a1-7cd5-41ee-9153-a156a1dc8b75",
   "metadata": {},
   "outputs": [],
   "source": [
    "embeddings"
   ]
  },
  {
   "cell_type": "code",
   "execution_count": null,
   "id": "c02c167c-3a9f-453b-8156-92db1be68933",
   "metadata": {},
   "outputs": [],
   "source": [
    "# Find longest len of tokens\n",
    "max_index = kaggle_data['tokens'].apply(len).idxmax()\n",
    "max_length = len(kaggle_data.loc[max_index, 'tokens'])\n",
    "\n",
    "# Get the row with the longest list of tokens\n",
    "row_with_max_tokens = kaggle_data.loc[max_index]\n",
    "\n",
    "print(\"Row with the longest list of tokens:\")\n",
    "# print(row_with_max_tokens)\n",
    "print(\"Length of the longest list of tokens:\", max_length)\n",
    "\n"
   ]
  },
  {
   "cell_type": "code",
   "execution_count": null,
   "id": "084252c0-60ef-4d02-a9ac-4f9b5a4172bd",
   "metadata": {},
   "outputs": [],
   "source": [
    "# Save the model\n",
    "# Define the path where you want to save the model\n",
    "# saved_model_path = \"./saved_model\"\n",
    "\n",
    "# # Save the model\n",
    "# tf.saved_model.save(elmo, saved_model_path)"
   ]
  },
  {
   "cell_type": "code",
   "execution_count": null,
   "id": "3738675b-cf91-4048-93f6-6fa83cb90c93",
   "metadata": {},
   "outputs": [],
   "source": [
    "elmo.Trainable = True"
   ]
  },
  {
   "cell_type": "markdown",
   "id": "51f184c3-51ae-4e15-a3a3-0125df1c646b",
   "metadata": {},
   "source": [
    "# Embed the whole dataset"
   ]
  },
  {
   "cell_type": "code",
   "execution_count": null,
   "id": "6065a7d6-6aaf-48c6-b325-495ab30b8178",
   "metadata": {},
   "outputs": [],
   "source": []
  }
 ],
 "metadata": {
  "kernelspec": {
   "display_name": "Python 3 (ipykernel)",
   "language": "python",
   "name": "python3"
  },
  "language_info": {
   "codemirror_mode": {
    "name": "ipython",
    "version": 3
   },
   "file_extension": ".py",
   "mimetype": "text/x-python",
   "name": "python",
   "nbconvert_exporter": "python",
   "pygments_lexer": "ipython3",
   "version": "3.10.13"
  }
 },
 "nbformat": 4,
 "nbformat_minor": 5
}
