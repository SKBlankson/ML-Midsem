{
 "cells": [
  {
   "cell_type": "markdown",
   "id": "59123fba-dc16-42a8-bace-5f280faeb1f2",
   "metadata": {},
   "source": [
    "# Import Libraries"
   ]
  },
  {
   "cell_type": "code",
   "execution_count": 1,
   "id": "3337ec41-cadc-473f-8ec3-078abe061747",
   "metadata": {
    "ExecuteTime": {
     "end_time": "2024-03-14T20:48:41.974957Z",
     "start_time": "2024-03-14T20:48:34.913079Z"
    }
   },
   "outputs": [],
   "source": [
    "import torch\n",
    "import os\n",
    "import pandas as pd\n",
    "import numpy as np\n",
    "from d2l import torch as d2l\n",
    "from torch import nn\n",
    "from sklearn.model_selection import train_test_split\n",
    "import csv"
   ]
  },
  {
   "cell_type": "markdown",
   "id": "2cde007e-c771-4470-bc89-1356e6da3984",
   "metadata": {},
   "source": [
    "# Load Dataset"
   ]
  },
  {
   "cell_type": "markdown",
   "id": "1bbcab07-a49b-40f2-8f31-79b19225bd4a",
   "metadata": {},
   "source": [
    "Here, we load the training set into a pandas dataframe and print the first 5 values"
   ]
  },
  {
   "cell_type": "code",
   "execution_count": 2,
   "id": "d542e9bb-b349-4e00-9624-d221568c2c13",
   "metadata": {
    "ExecuteTime": {
     "end_time": "2024-03-14T20:49:02.299706Z",
     "start_time": "2024-03-14T20:49:00.395700Z"
    }
   },
   "outputs": [
    {
     "data": {
      "text/html": [
       "<div>\n",
       "<style scoped>\n",
       "    .dataframe tbody tr th:only-of-type {\n",
       "        vertical-align: middle;\n",
       "    }\n",
       "\n",
       "    .dataframe tbody tr th {\n",
       "        vertical-align: top;\n",
       "    }\n",
       "\n",
       "    .dataframe thead th {\n",
       "        text-align: right;\n",
       "    }\n",
       "</style>\n",
       "<table border=\"1\" class=\"dataframe\">\n",
       "  <thead>\n",
       "    <tr style=\"text-align: right;\">\n",
       "      <th></th>\n",
       "      <th>document</th>\n",
       "      <th>full_text</th>\n",
       "      <th>tokens</th>\n",
       "      <th>trailing_whitespace</th>\n",
       "      <th>labels</th>\n",
       "    </tr>\n",
       "  </thead>\n",
       "  <tbody>\n",
       "    <tr>\n",
       "      <th>0</th>\n",
       "      <td>7</td>\n",
       "      <td>Design Thinking for innovation reflexion-Avril...</td>\n",
       "      <td>[Design, Thinking, for, innovation, reflexion,...</td>\n",
       "      <td>[True, True, True, True, False, False, True, F...</td>\n",
       "      <td>[O, O, O, O, O, O, O, O, O, B-NAME_STUDENT, I-...</td>\n",
       "    </tr>\n",
       "    <tr>\n",
       "      <th>1</th>\n",
       "      <td>10</td>\n",
       "      <td>Diego Estrada\\n\\nDesign Thinking Assignment\\n\\...</td>\n",
       "      <td>[Diego, Estrada, \\n\\n, Design, Thinking, Assig...</td>\n",
       "      <td>[True, False, False, True, True, False, False,...</td>\n",
       "      <td>[B-NAME_STUDENT, I-NAME_STUDENT, O, O, O, O, O...</td>\n",
       "    </tr>\n",
       "    <tr>\n",
       "      <th>2</th>\n",
       "      <td>16</td>\n",
       "      <td>Reporting process\\n\\nby Gilberto Gamboa\\n\\nCha...</td>\n",
       "      <td>[Reporting, process, \\n\\n, by, Gilberto, Gambo...</td>\n",
       "      <td>[True, False, False, True, True, False, False,...</td>\n",
       "      <td>[O, O, O, O, B-NAME_STUDENT, I-NAME_STUDENT, O...</td>\n",
       "    </tr>\n",
       "    <tr>\n",
       "      <th>3</th>\n",
       "      <td>20</td>\n",
       "      <td>Design Thinking for Innovation\\n\\nSindy Samaca...</td>\n",
       "      <td>[Design, Thinking, for, Innovation, \\n\\n, Sind...</td>\n",
       "      <td>[True, True, True, False, False, True, False, ...</td>\n",
       "      <td>[O, O, O, O, O, B-NAME_STUDENT, I-NAME_STUDENT...</td>\n",
       "    </tr>\n",
       "    <tr>\n",
       "      <th>4</th>\n",
       "      <td>56</td>\n",
       "      <td>Assignment:  Visualization Reflection  Submitt...</td>\n",
       "      <td>[Assignment, :,   , Visualization,  , Reflecti...</td>\n",
       "      <td>[False, False, False, False, False, False, Fal...</td>\n",
       "      <td>[O, O, O, O, O, O, O, O, O, O, O, O, B-NAME_ST...</td>\n",
       "    </tr>\n",
       "  </tbody>\n",
       "</table>\n",
       "</div>"
      ],
      "text/plain": [
       "   document                                          full_text  \\\n",
       "0         7  Design Thinking for innovation reflexion-Avril...   \n",
       "1        10  Diego Estrada\\n\\nDesign Thinking Assignment\\n\\...   \n",
       "2        16  Reporting process\\n\\nby Gilberto Gamboa\\n\\nCha...   \n",
       "3        20  Design Thinking for Innovation\\n\\nSindy Samaca...   \n",
       "4        56  Assignment:  Visualization Reflection  Submitt...   \n",
       "\n",
       "                                              tokens  \\\n",
       "0  [Design, Thinking, for, innovation, reflexion,...   \n",
       "1  [Diego, Estrada, \\n\\n, Design, Thinking, Assig...   \n",
       "2  [Reporting, process, \\n\\n, by, Gilberto, Gambo...   \n",
       "3  [Design, Thinking, for, Innovation, \\n\\n, Sind...   \n",
       "4  [Assignment, :,   , Visualization,  , Reflecti...   \n",
       "\n",
       "                                 trailing_whitespace  \\\n",
       "0  [True, True, True, True, False, False, True, F...   \n",
       "1  [True, False, False, True, True, False, False,...   \n",
       "2  [True, False, False, True, True, False, False,...   \n",
       "3  [True, True, True, False, False, True, False, ...   \n",
       "4  [False, False, False, False, False, False, Fal...   \n",
       "\n",
       "                                              labels  \n",
       "0  [O, O, O, O, O, O, O, O, O, B-NAME_STUDENT, I-...  \n",
       "1  [B-NAME_STUDENT, I-NAME_STUDENT, O, O, O, O, O...  \n",
       "2  [O, O, O, O, B-NAME_STUDENT, I-NAME_STUDENT, O...  \n",
       "3  [O, O, O, O, O, B-NAME_STUDENT, I-NAME_STUDENT...  \n",
       "4  [O, O, O, O, O, O, O, O, O, O, O, O, B-NAME_ST...  "
      ]
     },
     "execution_count": 2,
     "metadata": {},
     "output_type": "execute_result"
    }
   ],
   "source": [
    "kaggle_data = pd.read_json('train.json')\n",
    "kaggle_data.head()"
   ]
  },
  {
   "cell_type": "markdown",
   "id": "a03480b2-eba9-45bc-8a89-83f593387df3",
   "metadata": {},
   "source": [
    "# Split the dataset into train and test"
   ]
  },
  {
   "cell_type": "markdown",
   "id": "3d53cc6e-1ec5-40e2-97e1-751041da2741",
   "metadata": {},
   "source": [
    "In this section, the kaggle dataset is split into train and test variables.\n",
    "The train set contains the first 90% of the data (6126 examples)\n",
    "The test set contains the last 10% of the data (681 examples)"
   ]
  },
  {
   "cell_type": "code",
   "execution_count": 16,
   "id": "0804f898-7fd8-4784-b1bf-3c3fed56351c",
   "metadata": {},
   "outputs": [
    {
     "data": {
      "text/plain": [
       "681"
      ]
     },
     "execution_count": 16,
     "metadata": {},
     "output_type": "execute_result"
    }
   ],
   "source": [
    "# Split the first 90% of the data as the train set\n",
    "test_size = round(len(kaggle_data)*0.1) \n",
    "train_size = len(kaggle_data) - test_size\n",
    "\n",
    "# train_set, test_set = train_test_split(kaggle_data, test_size=len(kaggle_data)-train_size, random_state = False)\n",
    "train_set = kaggle_data.iloc[:train_size]\n",
    "test_set = kaggle_data.iloc[train_size:]\n",
    "\n",
    "# train_set\n",
    "test_size"
   ]
  },
  {
   "cell_type": "markdown",
   "id": "973717a1-e503-4027-bc14-3268770ae692",
   "metadata": {},
   "source": [
    "### Visually inspect the train and test set"
   ]
  },
  {
   "cell_type": "code",
   "execution_count": 4,
   "id": "85bcffbe-20c5-4294-b89a-0b7f8509f801",
   "metadata": {},
   "outputs": [
    {
     "data": {
      "text/html": [
       "<div>\n",
       "<style scoped>\n",
       "    .dataframe tbody tr th:only-of-type {\n",
       "        vertical-align: middle;\n",
       "    }\n",
       "\n",
       "    .dataframe tbody tr th {\n",
       "        vertical-align: top;\n",
       "    }\n",
       "\n",
       "    .dataframe thead th {\n",
       "        text-align: right;\n",
       "    }\n",
       "</style>\n",
       "<table border=\"1\" class=\"dataframe\">\n",
       "  <thead>\n",
       "    <tr style=\"text-align: right;\">\n",
       "      <th></th>\n",
       "      <th>document</th>\n",
       "      <th>full_text</th>\n",
       "      <th>tokens</th>\n",
       "      <th>trailing_whitespace</th>\n",
       "      <th>labels</th>\n",
       "    </tr>\n",
       "  </thead>\n",
       "  <tbody>\n",
       "    <tr>\n",
       "      <th>0</th>\n",
       "      <td>7</td>\n",
       "      <td>Design Thinking for innovation reflexion-Avril...</td>\n",
       "      <td>[Design, Thinking, for, innovation, reflexion,...</td>\n",
       "      <td>[True, True, True, True, False, False, True, F...</td>\n",
       "      <td>[O, O, O, O, O, O, O, O, O, B-NAME_STUDENT, I-...</td>\n",
       "    </tr>\n",
       "    <tr>\n",
       "      <th>1</th>\n",
       "      <td>10</td>\n",
       "      <td>Diego Estrada\\n\\nDesign Thinking Assignment\\n\\...</td>\n",
       "      <td>[Diego, Estrada, \\n\\n, Design, Thinking, Assig...</td>\n",
       "      <td>[True, False, False, True, True, False, False,...</td>\n",
       "      <td>[B-NAME_STUDENT, I-NAME_STUDENT, O, O, O, O, O...</td>\n",
       "    </tr>\n",
       "    <tr>\n",
       "      <th>2</th>\n",
       "      <td>16</td>\n",
       "      <td>Reporting process\\n\\nby Gilberto Gamboa\\n\\nCha...</td>\n",
       "      <td>[Reporting, process, \\n\\n, by, Gilberto, Gambo...</td>\n",
       "      <td>[True, False, False, True, True, False, False,...</td>\n",
       "      <td>[O, O, O, O, B-NAME_STUDENT, I-NAME_STUDENT, O...</td>\n",
       "    </tr>\n",
       "    <tr>\n",
       "      <th>3</th>\n",
       "      <td>20</td>\n",
       "      <td>Design Thinking for Innovation\\n\\nSindy Samaca...</td>\n",
       "      <td>[Design, Thinking, for, Innovation, \\n\\n, Sind...</td>\n",
       "      <td>[True, True, True, False, False, True, False, ...</td>\n",
       "      <td>[O, O, O, O, O, B-NAME_STUDENT, I-NAME_STUDENT...</td>\n",
       "    </tr>\n",
       "    <tr>\n",
       "      <th>4</th>\n",
       "      <td>56</td>\n",
       "      <td>Assignment:  Visualization Reflection  Submitt...</td>\n",
       "      <td>[Assignment, :,   , Visualization,  , Reflecti...</td>\n",
       "      <td>[False, False, False, False, False, False, Fal...</td>\n",
       "      <td>[O, O, O, O, O, O, O, O, O, O, O, O, B-NAME_ST...</td>\n",
       "    </tr>\n",
       "  </tbody>\n",
       "</table>\n",
       "</div>"
      ],
      "text/plain": [
       "   document                                          full_text  \\\n",
       "0         7  Design Thinking for innovation reflexion-Avril...   \n",
       "1        10  Diego Estrada\\n\\nDesign Thinking Assignment\\n\\...   \n",
       "2        16  Reporting process\\n\\nby Gilberto Gamboa\\n\\nCha...   \n",
       "3        20  Design Thinking for Innovation\\n\\nSindy Samaca...   \n",
       "4        56  Assignment:  Visualization Reflection  Submitt...   \n",
       "\n",
       "                                              tokens  \\\n",
       "0  [Design, Thinking, for, innovation, reflexion,...   \n",
       "1  [Diego, Estrada, \\n\\n, Design, Thinking, Assig...   \n",
       "2  [Reporting, process, \\n\\n, by, Gilberto, Gambo...   \n",
       "3  [Design, Thinking, for, Innovation, \\n\\n, Sind...   \n",
       "4  [Assignment, :,   , Visualization,  , Reflecti...   \n",
       "\n",
       "                                 trailing_whitespace  \\\n",
       "0  [True, True, True, True, False, False, True, F...   \n",
       "1  [True, False, False, True, True, False, False,...   \n",
       "2  [True, False, False, True, True, False, False,...   \n",
       "3  [True, True, True, False, False, True, False, ...   \n",
       "4  [False, False, False, False, False, False, Fal...   \n",
       "\n",
       "                                              labels  \n",
       "0  [O, O, O, O, O, O, O, O, O, B-NAME_STUDENT, I-...  \n",
       "1  [B-NAME_STUDENT, I-NAME_STUDENT, O, O, O, O, O...  \n",
       "2  [O, O, O, O, B-NAME_STUDENT, I-NAME_STUDENT, O...  \n",
       "3  [O, O, O, O, O, B-NAME_STUDENT, I-NAME_STUDENT...  \n",
       "4  [O, O, O, O, O, O, O, O, O, O, O, O, B-NAME_ST...  "
      ]
     },
     "execution_count": 4,
     "metadata": {},
     "output_type": "execute_result"
    }
   ],
   "source": [
    "# Print the train set\n",
    "train_set.head()"
   ]
  },
  {
   "cell_type": "code",
   "execution_count": 5,
   "id": "ca453a5a-e007-40b2-ad79-be590bd033c8",
   "metadata": {},
   "outputs": [
    {
     "data": {
      "text/html": [
       "<div>\n",
       "<style scoped>\n",
       "    .dataframe tbody tr th:only-of-type {\n",
       "        vertical-align: middle;\n",
       "    }\n",
       "\n",
       "    .dataframe tbody tr th {\n",
       "        vertical-align: top;\n",
       "    }\n",
       "\n",
       "    .dataframe thead th {\n",
       "        text-align: right;\n",
       "    }\n",
       "</style>\n",
       "<table border=\"1\" class=\"dataframe\">\n",
       "  <thead>\n",
       "    <tr style=\"text-align: right;\">\n",
       "      <th></th>\n",
       "      <th>document</th>\n",
       "      <th>full_text</th>\n",
       "      <th>tokens</th>\n",
       "      <th>trailing_whitespace</th>\n",
       "      <th>labels</th>\n",
       "    </tr>\n",
       "  </thead>\n",
       "  <tbody>\n",
       "    <tr>\n",
       "      <th>6126</th>\n",
       "      <td>21208</td>\n",
       "      <td>Learning Launch\\n\\nChallenge  I am a UX/UI Lea...</td>\n",
       "      <td>[Learning, Launch, \\n\\n, Challenge,  , I, am, ...</td>\n",
       "      <td>[True, False, False, True, False, True, True, ...</td>\n",
       "      <td>[O, O, O, O, O, O, O, O, O, O, O, O, O, O, O, ...</td>\n",
       "    </tr>\n",
       "    <tr>\n",
       "      <th>6127</th>\n",
       "      <td>21209</td>\n",
       "      <td>Reflection – Mind Mapping\\n\\nChallenge\\n\\nI am...</td>\n",
       "      <td>[Reflection, –, Mind, Mapping, \\n\\n, Challenge...</td>\n",
       "      <td>[True, True, True, False, False, False, False,...</td>\n",
       "      <td>[O, O, O, O, O, O, O, O, O, O, O, O, O, O, O, ...</td>\n",
       "    </tr>\n",
       "    <tr>\n",
       "      <th>6128</th>\n",
       "      <td>21211</td>\n",
       "      <td>Example Reflection - Mind Mapping\\n\\nChallenge...</td>\n",
       "      <td>[Example, Reflection, -, Mind, Mapping, \\n\\n, ...</td>\n",
       "      <td>[True, True, True, True, False, False, True, T...</td>\n",
       "      <td>[O, O, O, O, O, O, O, O, O, O, O, O, O, O, O, ...</td>\n",
       "    </tr>\n",
       "    <tr>\n",
       "      <th>6129</th>\n",
       "      <td>21213</td>\n",
       "      <td>Company General Use\\n\\nElements:\\n\\n1. Challen...</td>\n",
       "      <td>[Company, General, Use, \\n\\n, Elements, :, \\n\\...</td>\n",
       "      <td>[True, True, False, False, False, False, False...</td>\n",
       "      <td>[O, O, O, O, O, O, O, O, O, O, O, O, O, O, O, ...</td>\n",
       "    </tr>\n",
       "    <tr>\n",
       "      <th>6130</th>\n",
       "      <td>21215</td>\n",
       "      <td>1 | P a g e\\n\\nExample Reflection – Visualizat...</td>\n",
       "      <td>[1, |, P, a, g, e, \\n\\n, Example, Reflection, ...</td>\n",
       "      <td>[True, True, True, True, True, False, False, T...</td>\n",
       "      <td>[O, O, O, O, O, O, O, O, O, O, O, O, O, O, O, ...</td>\n",
       "    </tr>\n",
       "  </tbody>\n",
       "</table>\n",
       "</div>"
      ],
      "text/plain": [
       "      document                                          full_text  \\\n",
       "6126     21208  Learning Launch\\n\\nChallenge  I am a UX/UI Lea...   \n",
       "6127     21209  Reflection – Mind Mapping\\n\\nChallenge\\n\\nI am...   \n",
       "6128     21211  Example Reflection - Mind Mapping\\n\\nChallenge...   \n",
       "6129     21213  Company General Use\\n\\nElements:\\n\\n1. Challen...   \n",
       "6130     21215  1 | P a g e\\n\\nExample Reflection – Visualizat...   \n",
       "\n",
       "                                                 tokens  \\\n",
       "6126  [Learning, Launch, \\n\\n, Challenge,  , I, am, ...   \n",
       "6127  [Reflection, –, Mind, Mapping, \\n\\n, Challenge...   \n",
       "6128  [Example, Reflection, -, Mind, Mapping, \\n\\n, ...   \n",
       "6129  [Company, General, Use, \\n\\n, Elements, :, \\n\\...   \n",
       "6130  [1, |, P, a, g, e, \\n\\n, Example, Reflection, ...   \n",
       "\n",
       "                                    trailing_whitespace  \\\n",
       "6126  [True, False, False, True, False, True, True, ...   \n",
       "6127  [True, True, True, False, False, False, False,...   \n",
       "6128  [True, True, True, True, False, False, True, T...   \n",
       "6129  [True, True, False, False, False, False, False...   \n",
       "6130  [True, True, True, True, True, False, False, T...   \n",
       "\n",
       "                                                 labels  \n",
       "6126  [O, O, O, O, O, O, O, O, O, O, O, O, O, O, O, ...  \n",
       "6127  [O, O, O, O, O, O, O, O, O, O, O, O, O, O, O, ...  \n",
       "6128  [O, O, O, O, O, O, O, O, O, O, O, O, O, O, O, ...  \n",
       "6129  [O, O, O, O, O, O, O, O, O, O, O, O, O, O, O, ...  \n",
       "6130  [O, O, O, O, O, O, O, O, O, O, O, O, O, O, O, ...  "
      ]
     },
     "execution_count": 5,
     "metadata": {},
     "output_type": "execute_result"
    }
   ],
   "source": [
    "# Print the test set\n",
    "test_set.head()"
   ]
  },
  {
   "cell_type": "markdown",
   "id": "cee40e71-057b-4e16-9e56-fe44e87aa1f5",
   "metadata": {
    "collapsed": false,
    "jupyter": {
     "outputs_hidden": false
    }
   },
   "source": [
    "# Extract labels and count them"
   ]
  },
  {
   "cell_type": "markdown",
   "id": "f3353149-3cef-4d2d-a25a-51261453f14f",
   "metadata": {},
   "source": [
    "The Most Frequent Count (MFC) assigns the most common class in a dataset as the prediction for every example.\n",
    "As such, we need to count the frequency of every class/label in the dataset. \n",
    "\n",
    "We used a dictionary to store the counts of each class."
   ]
  },
  {
   "cell_type": "code",
   "execution_count": 6,
   "id": "b427501d-3516-48ac-adee-9e104a383ce8",
   "metadata": {},
   "outputs": [],
   "source": [
    "# Assign labels to a variable\n",
    "labels = kaggle_data['labels']\n",
    "\n",
    "# Initialize a dictionary to count the labels\n",
    "count = dict()\n",
    "\n",
    "# Loop through labels and count them\n",
    "for entry in labels:\n",
    "    for label in entry:\n",
    "        if label not in count:\n",
    "            count[label]=1\n",
    "        else:\n",
    "            count[label]+=1"
   ]
  },
  {
   "cell_type": "markdown",
   "id": "399df505-48dd-4997-b340-3acb3c0a7416",
   "metadata": {},
   "source": [
    "# Sort labels in descending order and print the 2 most frequent classes"
   ]
  },
  {
   "cell_type": "markdown",
   "id": "42feee0c-efa7-4f2d-b617-2457d96f425b",
   "metadata": {},
   "source": [
    "The dictionary stores its entries in the order that they are added. \n",
    "As such, we need to sort the entries \n",
    "of the dictionary to get the first and second most frequent classes"
   ]
  },
  {
   "cell_type": "code",
   "execution_count": 7,
   "id": "025e75f3-63a0-4c7d-97b9-e278498c2172",
   "metadata": {},
   "outputs": [
    {
     "name": "stdout",
     "output_type": "stream",
     "text": [
      "O\n",
      "B-NAME_STUDENT\n"
     ]
    }
   ],
   "source": [
    "# Sort the labels in descending order\n",
    "sorted_counts = sorted(count, key=count.get)\n",
    "sorted_counts\n",
    "\n",
    "# Get the most frequent class\n",
    "most_frequent = sorted_counts[-1]\n",
    "\n",
    "# Get the second most frequent class\n",
    "second_frequent = sorted_counts[-2]\n",
    "\n",
    "print(most_frequent)\n",
    "print(second_frequent)"
   ]
  },
  {
   "cell_type": "markdown",
   "id": "cbc5679f-e5a3-4df7-9256-29ffb4956aee",
   "metadata": {},
   "source": [
    "# Define model to predict most frequent class"
   ]
  },
  {
   "cell_type": "markdown",
   "id": "0622f4cf-b67e-4fc7-b9cb-eb0c5a3b7dab",
   "metadata": {},
   "source": [
    "Here we define our MFC model. It takes 1 arguments: a dataframe containing the train dataset. The model returns 2 CSVs submissions-mfc.csv and evaluations-mfc.csv"
   ]
  },
  {
   "cell_type": "code",
   "execution_count": 35,
   "id": "18bfde5c-8732-4b74-8c0e-710c4a18eb52",
   "metadata": {},
   "outputs": [],
   "source": [
    "def MFC(test_set, frequency):\n",
    "    \"\"\" A model that predicts the second most frequent\n",
    "    classification in the dataset for each example\n",
    "    @params test_set A pandas dataframe containing the test dataset\n",
    "    \"\"\"\n",
    "\n",
    "    # Initialize arrays to store evaluations and predictions\n",
    "    submission_predictions = []\n",
    "    evaluations = []\n",
    "    \n",
    "    # Make predictions on the test values\n",
    "    count = 0\n",
    "    for index, row in test_set.iterrows():\n",
    "        for token in row['tokens']:\n",
    "            for i in range(len(row['tokens'])):\n",
    "                if count < 10:\n",
    "                    # Initialize arrays that will be wrriten to the files\n",
    "                    prediction = [-1 , -1, -1, -1]\n",
    "                    evaluation = [-1 , -1, -1, -1]\n",
    "                    \n",
    "                    # Assign values to prediction and evaluation arrays \n",
    "                    prediction[0] = evaluation[0] = count # assign row id\n",
    "                    prediction[1] = evaluation[1] = row['document']\n",
    "                    prediction[2] = evaluation[2] = i # assign token number\n",
    "                    if frequency == 'mfc':\n",
    "                        prediction[3] = most_frequent # assign prediction\n",
    "                    elif frequency == 'nmfc': \n",
    "                        prediction[3] = second_frequent # assign prediction\n",
    "                    evaluation[3] = row['labels'][i]\n",
    "                    print(prediction)\n",
    "\n",
    "                    submission_predictions.append(prediction)\n",
    "                    evaluations.append(evaluation)\n",
    "                    count+=1\n",
    "                else:\n",
    "                    break       \n",
    "\n",
    "\n",
    "  # Initialize file writers for submissions.csv and evaluations.csv\n",
    "    with open(f\"submissions-{frequency}.csv\",'w',newline = '') as f:\n",
    "        with open(f\"evaluation-{frequency}.csv\",'w',newline = '') as e:\n",
    "        # Write column headings to files\n",
    "            headings = ['row_id', 'document', 'token', 'label']\n",
    "            submission_writer = csv.writer(f)\n",
    "            eval_writer = csv.writer(e)\n",
    "            \n",
    "            submission_writer.writerow(headings)\n",
    "            eval_writer.writerow(headings)  \n",
    "            \n",
    "             # Write the predictions to the files\n",
    "            for i in range(len(submission_predictions)):\n",
    "                submission_writer.writerow(submission_predictions[i])\n",
    "                eval_writer.writerow(evaluations[i])\n",
    "            \n",
    "    print('File writes complete')\n",
    "    return                      "
   ]
  },
  {
   "cell_type": "markdown",
   "id": "cc27f9fc-5ca6-4444-9d29-a0f1f0a8b2bf",
   "metadata": {},
   "source": [
    "# Perform predictions using most frequent class"
   ]
  },
  {
   "cell_type": "code",
   "execution_count": 36,
   "id": "16a20c34-4d3a-43c9-a155-680e37ab3837",
   "metadata": {},
   "outputs": [
    {
     "name": "stdout",
     "output_type": "stream",
     "text": [
      "[0, 21208, 0, 'O']\n",
      "[1, 21208, 1, 'O']\n",
      "[2, 21208, 2, 'O']\n",
      "[3, 21208, 3, 'O']\n",
      "[4, 21208, 4, 'O']\n",
      "[5, 21208, 5, 'O']\n",
      "[6, 21208, 6, 'O']\n",
      "[7, 21208, 7, 'O']\n",
      "[8, 21208, 8, 'O']\n",
      "[9, 21208, 9, 'O']\n",
      "File writes complete\n"
     ]
    }
   ],
   "source": [
    "MFC(test_set,'mfc')      "
   ]
  },
  {
   "cell_type": "markdown",
   "id": "83f428d9-39be-4975-b3ca-524ea353b77a",
   "metadata": {},
   "source": [
    "# Perform predictions using the second most frequent class"
   ]
  },
  {
   "cell_type": "code",
   "execution_count": 37,
   "id": "d979da54-d501-4f31-8577-20c717ff7421",
   "metadata": {},
   "outputs": [
    {
     "name": "stdout",
     "output_type": "stream",
     "text": [
      "[0, 21208, 0, 'B-NAME_STUDENT']\n",
      "[1, 21208, 1, 'B-NAME_STUDENT']\n",
      "[2, 21208, 2, 'B-NAME_STUDENT']\n",
      "[3, 21208, 3, 'B-NAME_STUDENT']\n",
      "[4, 21208, 4, 'B-NAME_STUDENT']\n",
      "[5, 21208, 5, 'B-NAME_STUDENT']\n",
      "[6, 21208, 6, 'B-NAME_STUDENT']\n",
      "[7, 21208, 7, 'B-NAME_STUDENT']\n",
      "[8, 21208, 8, 'B-NAME_STUDENT']\n",
      "[9, 21208, 9, 'B-NAME_STUDENT']\n",
      "File writes complete\n"
     ]
    }
   ],
   "source": [
    "MFC(test_set,'nmfc')      "
   ]
  },
  {
   "cell_type": "markdown",
   "id": "d83d666e-d79e-43e4-ae3d-71cca79d29a7",
   "metadata": {},
   "source": [
    "# Define functions for evaluation models"
   ]
  },
  {
   "cell_type": "markdown",
   "id": "87f84732-26e9-4b98-b7ec-38614301be9b",
   "metadata": {},
   "source": [
    "### Precision"
   ]
  },
  {
   "cell_type": "markdown",
   "id": "755fa53a-091b-4c3c-9bc6-c4ed483654c7",
   "metadata": {},
   "source": [
    "From our research, we determined that there are 2 methods for calculating Precision in multi-class scenarios: Macro Averaging and Micro Averaging.\n",
    "We decided to go with a Macro averaging approach because it assigns equal weights to each class. Micro averaging on the other hand, assigns equal weight to each prediction. Assigning equal weight to each prediction means that the overall precision is influenced greatly by datasets with dominant classes. In other words, micro averaging does not really illustrate the models ability to predict less prevalent classes. \n",
    "\n",
    "As such, we went with macro averaging since it gives each class equal importance and thus illustrates the models ability to predict classes that are not so frequent in the data."
   ]
  },
  {
   "cell_type": "code",
   "execution_count": 46,
   "id": "56941dd0-ae9c-4720-85f3-dd4e3fd8d0ff",
   "metadata": {},
   "outputs": [
    {
     "name": "stdout",
     "output_type": "stream",
     "text": [
      "O\n",
      "O\n",
      "O\n",
      "O\n",
      "O\n",
      "O\n",
      "O\n",
      "O\n",
      "O\n",
      "O\n"
     ]
    }
   ],
   "source": [
    "def Precision(predictions_csv, evaluations_csv):\n",
    "    predictions = pd.read_csv(predictions_csv)\n",
    "    evaluations = pd.read_csv(evaluations_csv)\n",
    "\n",
    "    # Initiailize counters for true and false positives\n",
    "    true_positives = 0\n",
    "    false_positives = 0\n",
    "    \n",
    "    \n",
    "    # Calculate true positives and false positives\n",
    "    for i in range(len(predictions)):\n",
    "        if(predictions.iloc[i]['label'] == evaluations.iloc[i]['label']):\n",
    "            true_positives+=1\n",
    "        elif(predictions.iloc[i]['label'] \n",
    "    \n",
    "        \n",
    "Precision('submissions-mfc.csv','evaluation-mfc.csv')                            "
   ]
  },
  {
   "cell_type": "code",
   "execution_count": null,
   "id": "1ad21125-9a32-4905-82cc-9196ba471210",
   "metadata": {},
   "outputs": [],
   "source": []
  }
 ],
 "metadata": {
  "kernelspec": {
   "display_name": "Python 3 (ipykernel)",
   "language": "python",
   "name": "python3"
  },
  "language_info": {
   "codemirror_mode": {
    "name": "ipython",
    "version": 3
   },
   "file_extension": ".py",
   "mimetype": "text/x-python",
   "name": "python",
   "nbconvert_exporter": "python",
   "pygments_lexer": "ipython3",
   "version": "3.10.13"
  }
 },
 "nbformat": 4,
 "nbformat_minor": 5
}
