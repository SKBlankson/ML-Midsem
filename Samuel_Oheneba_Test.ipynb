{
 "cells": [
  {
   "cell_type": "markdown",
   "id": "63d0c32f-9c6a-45af-97ef-f7e681c2bcd3",
   "metadata": {},
   "source": [
    "# Import Libraries"
   ]
  },
  {
   "cell_type": "code",
   "execution_count": 1,
   "id": "14e59c1e-25b2-49d3-b90e-bda1490cc801",
   "metadata": {},
   "outputs": [],
   "source": [
    "import os\n",
    "import pandas as pd\n",
    "import numpy as np\n",
    "from sklearn.model_selection import train_test_split\n",
    "import csv\n",
    "import torch\n",
    "from torch import nn\n",
    "from d2l import torch as d2l\n",
    "import torch.optim as optim\n",
    "import torch.nn.functional as F"
   ]
  },
  {
   "cell_type": "markdown",
   "id": "8e59b2d7-64c9-4d3d-a417-4bd4818fe168",
   "metadata": {},
   "source": [
    "# Load Dataset"
   ]
  },
  {
   "cell_type": "code",
   "execution_count": 2,
   "id": "44050319-8525-4e24-a021-8970b361611e",
   "metadata": {},
   "outputs": [
    {
     "data": {
      "text/html": [
       "<div>\n",
       "<style scoped>\n",
       "    .dataframe tbody tr th:only-of-type {\n",
       "        vertical-align: middle;\n",
       "    }\n",
       "\n",
       "    .dataframe tbody tr th {\n",
       "        vertical-align: top;\n",
       "    }\n",
       "\n",
       "    .dataframe thead th {\n",
       "        text-align: right;\n",
       "    }\n",
       "</style>\n",
       "<table border=\"1\" class=\"dataframe\">\n",
       "  <thead>\n",
       "    <tr style=\"text-align: right;\">\n",
       "      <th></th>\n",
       "      <th>document</th>\n",
       "      <th>full_text</th>\n",
       "      <th>tokens</th>\n",
       "      <th>trailing_whitespace</th>\n",
       "      <th>labels</th>\n",
       "    </tr>\n",
       "  </thead>\n",
       "  <tbody>\n",
       "    <tr>\n",
       "      <th>0</th>\n",
       "      <td>7</td>\n",
       "      <td>Design Thinking for innovation reflexion-Avril...</td>\n",
       "      <td>[Design, Thinking, for, innovation, reflexion,...</td>\n",
       "      <td>[True, True, True, True, False, False, True, F...</td>\n",
       "      <td>[O, O, O, O, O, O, O, O, O, B-NAME_STUDENT, I-...</td>\n",
       "    </tr>\n",
       "    <tr>\n",
       "      <th>1</th>\n",
       "      <td>10</td>\n",
       "      <td>Diego Estrada\\n\\nDesign Thinking Assignment\\n\\...</td>\n",
       "      <td>[Diego, Estrada, \\n\\n, Design, Thinking, Assig...</td>\n",
       "      <td>[True, False, False, True, True, False, False,...</td>\n",
       "      <td>[B-NAME_STUDENT, I-NAME_STUDENT, O, O, O, O, O...</td>\n",
       "    </tr>\n",
       "    <tr>\n",
       "      <th>2</th>\n",
       "      <td>16</td>\n",
       "      <td>Reporting process\\n\\nby Gilberto Gamboa\\n\\nCha...</td>\n",
       "      <td>[Reporting, process, \\n\\n, by, Gilberto, Gambo...</td>\n",
       "      <td>[True, False, False, True, True, False, False,...</td>\n",
       "      <td>[O, O, O, O, B-NAME_STUDENT, I-NAME_STUDENT, O...</td>\n",
       "    </tr>\n",
       "    <tr>\n",
       "      <th>3</th>\n",
       "      <td>20</td>\n",
       "      <td>Design Thinking for Innovation\\n\\nSindy Samaca...</td>\n",
       "      <td>[Design, Thinking, for, Innovation, \\n\\n, Sind...</td>\n",
       "      <td>[True, True, True, False, False, True, False, ...</td>\n",
       "      <td>[O, O, O, O, O, B-NAME_STUDENT, I-NAME_STUDENT...</td>\n",
       "    </tr>\n",
       "    <tr>\n",
       "      <th>4</th>\n",
       "      <td>56</td>\n",
       "      <td>Assignment:  Visualization Reflection  Submitt...</td>\n",
       "      <td>[Assignment, :,   , Visualization,  , Reflecti...</td>\n",
       "      <td>[False, False, False, False, False, False, Fal...</td>\n",
       "      <td>[O, O, O, O, O, O, O, O, O, O, O, O, B-NAME_ST...</td>\n",
       "    </tr>\n",
       "  </tbody>\n",
       "</table>\n",
       "</div>"
      ],
      "text/plain": [
       "   document                                          full_text  \\\n",
       "0         7  Design Thinking for innovation reflexion-Avril...   \n",
       "1        10  Diego Estrada\\n\\nDesign Thinking Assignment\\n\\...   \n",
       "2        16  Reporting process\\n\\nby Gilberto Gamboa\\n\\nCha...   \n",
       "3        20  Design Thinking for Innovation\\n\\nSindy Samaca...   \n",
       "4        56  Assignment:  Visualization Reflection  Submitt...   \n",
       "\n",
       "                                              tokens  \\\n",
       "0  [Design, Thinking, for, innovation, reflexion,...   \n",
       "1  [Diego, Estrada, \\n\\n, Design, Thinking, Assig...   \n",
       "2  [Reporting, process, \\n\\n, by, Gilberto, Gambo...   \n",
       "3  [Design, Thinking, for, Innovation, \\n\\n, Sind...   \n",
       "4  [Assignment, :,   , Visualization,  , Reflecti...   \n",
       "\n",
       "                                 trailing_whitespace  \\\n",
       "0  [True, True, True, True, False, False, True, F...   \n",
       "1  [True, False, False, True, True, False, False,...   \n",
       "2  [True, False, False, True, True, False, False,...   \n",
       "3  [True, True, True, False, False, True, False, ...   \n",
       "4  [False, False, False, False, False, False, Fal...   \n",
       "\n",
       "                                              labels  \n",
       "0  [O, O, O, O, O, O, O, O, O, B-NAME_STUDENT, I-...  \n",
       "1  [B-NAME_STUDENT, I-NAME_STUDENT, O, O, O, O, O...  \n",
       "2  [O, O, O, O, B-NAME_STUDENT, I-NAME_STUDENT, O...  \n",
       "3  [O, O, O, O, O, B-NAME_STUDENT, I-NAME_STUDENT...  \n",
       "4  [O, O, O, O, O, O, O, O, O, O, O, O, B-NAME_ST...  "
      ]
     },
     "execution_count": 2,
     "metadata": {},
     "output_type": "execute_result"
    }
   ],
   "source": [
    "kaggle_data = pd.read_json('train.json')\n",
    "kaggle_data.head()"
   ]
  },
  {
   "cell_type": "code",
   "execution_count": 3,
   "id": "220cdeb8-42ae-4c69-bae6-156caad29060",
   "metadata": {},
   "outputs": [
    {
     "data": {
      "text/plain": [
       "681"
      ]
     },
     "execution_count": 3,
     "metadata": {},
     "output_type": "execute_result"
    }
   ],
   "source": [
    "# Split the first 90% of the data as the train set\n",
    "test_size = round(len(kaggle_data)*0.1) \n",
    "train_size = len(kaggle_data) - test_size\n",
    "\n",
    "# train_set, test_set = train_test_split(kaggle_data, test_size=len(kaggle_data)-train_size, random_state = False)\n",
    "train_set = kaggle_data.iloc[:train_size].copy()\n",
    "test_set = kaggle_data.iloc[train_size:].copy()\n",
    "\n",
    "test_size"
   ]
  },
  {
   "cell_type": "code",
   "execution_count": 4,
   "id": "41c32f36-c8a5-41b6-a639-176bfbe36418",
   "metadata": {},
   "outputs": [
    {
     "data": {
      "text/html": [
       "<div>\n",
       "<style scoped>\n",
       "    .dataframe tbody tr th:only-of-type {\n",
       "        vertical-align: middle;\n",
       "    }\n",
       "\n",
       "    .dataframe tbody tr th {\n",
       "        vertical-align: top;\n",
       "    }\n",
       "\n",
       "    .dataframe thead th {\n",
       "        text-align: right;\n",
       "    }\n",
       "</style>\n",
       "<table border=\"1\" class=\"dataframe\">\n",
       "  <thead>\n",
       "    <tr style=\"text-align: right;\">\n",
       "      <th></th>\n",
       "      <th>document</th>\n",
       "      <th>full_text</th>\n",
       "      <th>tokens</th>\n",
       "      <th>trailing_whitespace</th>\n",
       "      <th>labels</th>\n",
       "    </tr>\n",
       "  </thead>\n",
       "  <tbody>\n",
       "    <tr>\n",
       "      <th>0</th>\n",
       "      <td>7</td>\n",
       "      <td>Design Thinking for innovation reflexion-Avril...</td>\n",
       "      <td>[Design, Thinking, for, innovation, reflexion,...</td>\n",
       "      <td>[True, True, True, True, False, False, True, F...</td>\n",
       "      <td>[O, O, O, O, O, O, O, O, O, B-NAME_STUDENT, I-...</td>\n",
       "    </tr>\n",
       "    <tr>\n",
       "      <th>1</th>\n",
       "      <td>10</td>\n",
       "      <td>Diego Estrada\\n\\nDesign Thinking Assignment\\n\\...</td>\n",
       "      <td>[Diego, Estrada, \\n\\n, Design, Thinking, Assig...</td>\n",
       "      <td>[True, False, False, True, True, False, False,...</td>\n",
       "      <td>[B-NAME_STUDENT, I-NAME_STUDENT, O, O, O, O, O...</td>\n",
       "    </tr>\n",
       "    <tr>\n",
       "      <th>2</th>\n",
       "      <td>16</td>\n",
       "      <td>Reporting process\\n\\nby Gilberto Gamboa\\n\\nCha...</td>\n",
       "      <td>[Reporting, process, \\n\\n, by, Gilberto, Gambo...</td>\n",
       "      <td>[True, False, False, True, True, False, False,...</td>\n",
       "      <td>[O, O, O, O, B-NAME_STUDENT, I-NAME_STUDENT, O...</td>\n",
       "    </tr>\n",
       "    <tr>\n",
       "      <th>3</th>\n",
       "      <td>20</td>\n",
       "      <td>Design Thinking for Innovation\\n\\nSindy Samaca...</td>\n",
       "      <td>[Design, Thinking, for, Innovation, \\n\\n, Sind...</td>\n",
       "      <td>[True, True, True, False, False, True, False, ...</td>\n",
       "      <td>[O, O, O, O, O, B-NAME_STUDENT, I-NAME_STUDENT...</td>\n",
       "    </tr>\n",
       "    <tr>\n",
       "      <th>4</th>\n",
       "      <td>56</td>\n",
       "      <td>Assignment:  Visualization Reflection  Submitt...</td>\n",
       "      <td>[Assignment, :,   , Visualization,  , Reflecti...</td>\n",
       "      <td>[False, False, False, False, False, False, Fal...</td>\n",
       "      <td>[O, O, O, O, O, O, O, O, O, O, O, O, B-NAME_ST...</td>\n",
       "    </tr>\n",
       "    <tr>\n",
       "      <th>...</th>\n",
       "      <td>...</td>\n",
       "      <td>...</td>\n",
       "      <td>...</td>\n",
       "      <td>...</td>\n",
       "      <td>...</td>\n",
       "    </tr>\n",
       "    <tr>\n",
       "      <th>6121</th>\n",
       "      <td>21199</td>\n",
       "      <td>Reflection- Storytelling\\n\\nCHALLENGE AND SELE...</td>\n",
       "      <td>[Reflection-, Storytelling, \\n\\n, CHALLENGE, A...</td>\n",
       "      <td>[True, False, False, True, True, False, False,...</td>\n",
       "      <td>[O, O, O, O, O, O, O, O, O, O, O, O, O, O, O, ...</td>\n",
       "    </tr>\n",
       "    <tr>\n",
       "      <th>6122</th>\n",
       "      <td>21203</td>\n",
       "      <td>Example Reflection - Learning Launch\\n\\nChalle...</td>\n",
       "      <td>[Example, Reflection, -, Learning, Launch, \\n\\...</td>\n",
       "      <td>[True, True, True, True, False, False, False, ...</td>\n",
       "      <td>[O, O, O, O, O, O, O, O, O, O, O, O, O, O, O, ...</td>\n",
       "    </tr>\n",
       "    <tr>\n",
       "      <th>6123</th>\n",
       "      <td>21204</td>\n",
       "      <td>Reflection - Storytelling\\n\\nChallenge:​ Worki...</td>\n",
       "      <td>[Reflection, -, Storytelling, \\n\\n, Challenge:...</td>\n",
       "      <td>[True, True, False, False, True, True, True, T...</td>\n",
       "      <td>[O, O, O, O, O, O, O, O, O, O, O, O, O, O, O, ...</td>\n",
       "    </tr>\n",
       "    <tr>\n",
       "      <th>6124</th>\n",
       "      <td>21205</td>\n",
       "      <td>Challenge and choice\\n\\nI worked in a packagin...</td>\n",
       "      <td>[Challenge, and, choice, \\n\\n, I, worked, in, ...</td>\n",
       "      <td>[True, True, False, False, True, True, True, T...</td>\n",
       "      <td>[O, O, O, O, O, O, O, O, O, O, O, O, O, O, O, ...</td>\n",
       "    </tr>\n",
       "    <tr>\n",
       "      <th>6125</th>\n",
       "      <td>21206</td>\n",
       "      <td>Challenge\\n\\nI work in a team where we build d...</td>\n",
       "      <td>[Challenge, \\n\\n, I, work, in, a, team, where,...</td>\n",
       "      <td>[False, False, True, True, True, True, True, T...</td>\n",
       "      <td>[O, O, O, O, O, O, O, O, O, O, O, O, O, O, O, ...</td>\n",
       "    </tr>\n",
       "  </tbody>\n",
       "</table>\n",
       "<p>6126 rows × 5 columns</p>\n",
       "</div>"
      ],
      "text/plain": [
       "      document                                          full_text  \\\n",
       "0            7  Design Thinking for innovation reflexion-Avril...   \n",
       "1           10  Diego Estrada\\n\\nDesign Thinking Assignment\\n\\...   \n",
       "2           16  Reporting process\\n\\nby Gilberto Gamboa\\n\\nCha...   \n",
       "3           20  Design Thinking for Innovation\\n\\nSindy Samaca...   \n",
       "4           56  Assignment:  Visualization Reflection  Submitt...   \n",
       "...        ...                                                ...   \n",
       "6121     21199  Reflection- Storytelling\\n\\nCHALLENGE AND SELE...   \n",
       "6122     21203  Example Reflection - Learning Launch\\n\\nChalle...   \n",
       "6123     21204  Reflection - Storytelling\\n\\nChallenge:​ Worki...   \n",
       "6124     21205  Challenge and choice\\n\\nI worked in a packagin...   \n",
       "6125     21206  Challenge\\n\\nI work in a team where we build d...   \n",
       "\n",
       "                                                 tokens  \\\n",
       "0     [Design, Thinking, for, innovation, reflexion,...   \n",
       "1     [Diego, Estrada, \\n\\n, Design, Thinking, Assig...   \n",
       "2     [Reporting, process, \\n\\n, by, Gilberto, Gambo...   \n",
       "3     [Design, Thinking, for, Innovation, \\n\\n, Sind...   \n",
       "4     [Assignment, :,   , Visualization,  , Reflecti...   \n",
       "...                                                 ...   \n",
       "6121  [Reflection-, Storytelling, \\n\\n, CHALLENGE, A...   \n",
       "6122  [Example, Reflection, -, Learning, Launch, \\n\\...   \n",
       "6123  [Reflection, -, Storytelling, \\n\\n, Challenge:...   \n",
       "6124  [Challenge, and, choice, \\n\\n, I, worked, in, ...   \n",
       "6125  [Challenge, \\n\\n, I, work, in, a, team, where,...   \n",
       "\n",
       "                                    trailing_whitespace  \\\n",
       "0     [True, True, True, True, False, False, True, F...   \n",
       "1     [True, False, False, True, True, False, False,...   \n",
       "2     [True, False, False, True, True, False, False,...   \n",
       "3     [True, True, True, False, False, True, False, ...   \n",
       "4     [False, False, False, False, False, False, Fal...   \n",
       "...                                                 ...   \n",
       "6121  [True, False, False, True, True, False, False,...   \n",
       "6122  [True, True, True, True, False, False, False, ...   \n",
       "6123  [True, True, False, False, True, True, True, T...   \n",
       "6124  [True, True, False, False, True, True, True, T...   \n",
       "6125  [False, False, True, True, True, True, True, T...   \n",
       "\n",
       "                                                 labels  \n",
       "0     [O, O, O, O, O, O, O, O, O, B-NAME_STUDENT, I-...  \n",
       "1     [B-NAME_STUDENT, I-NAME_STUDENT, O, O, O, O, O...  \n",
       "2     [O, O, O, O, B-NAME_STUDENT, I-NAME_STUDENT, O...  \n",
       "3     [O, O, O, O, O, B-NAME_STUDENT, I-NAME_STUDENT...  \n",
       "4     [O, O, O, O, O, O, O, O, O, O, O, O, B-NAME_ST...  \n",
       "...                                                 ...  \n",
       "6121  [O, O, O, O, O, O, O, O, O, O, O, O, O, O, O, ...  \n",
       "6122  [O, O, O, O, O, O, O, O, O, O, O, O, O, O, O, ...  \n",
       "6123  [O, O, O, O, O, O, O, O, O, O, O, O, O, O, O, ...  \n",
       "6124  [O, O, O, O, O, O, O, O, O, O, O, O, O, O, O, ...  \n",
       "6125  [O, O, O, O, O, O, O, O, O, O, O, O, O, O, O, ...  \n",
       "\n",
       "[6126 rows x 5 columns]"
      ]
     },
     "execution_count": 4,
     "metadata": {},
     "output_type": "execute_result"
    }
   ],
   "source": [
    "train_set"
   ]
  },
  {
   "cell_type": "code",
   "execution_count": 5,
   "id": "3a9b4289-19f7-452e-8457-637ab6386a98",
   "metadata": {},
   "outputs": [],
   "source": [
    "essays = kaggle_data['full_text'].tolist()\n",
    "tokens = kaggle_data['tokens'].tolist()"
   ]
  },
  {
   "cell_type": "markdown",
   "id": "d5c5c3d8-0215-4ef1-9670-1f26939635b4",
   "metadata": {},
   "source": [
    "# Word Embedding"
   ]
  },
  {
   "cell_type": "code",
   "execution_count": 6,
   "id": "daac06fa-77a6-4ff1-87b0-055bff8332ee",
   "metadata": {},
   "outputs": [],
   "source": [
    "glove_embeddings = {}\n",
    "with open('glove_model/glove.6B.100d.txt', 'r', encoding='utf-8') as f:\n",
    "    for line in f:\n",
    "        values = line.split()\n",
    "        word = values[0]\n",
    "        vector = np.array(values[1:], dtype='float32')\n",
    "        glove_embeddings[word] = vector"
   ]
  },
  {
   "cell_type": "code",
   "execution_count": 7,
   "id": "063023e2-f619-4aca-b15d-c6b4418f86ee",
   "metadata": {},
   "outputs": [
    {
     "data": {
      "text/html": [
       "<div>\n",
       "<style scoped>\n",
       "    .dataframe tbody tr th:only-of-type {\n",
       "        vertical-align: middle;\n",
       "    }\n",
       "\n",
       "    .dataframe tbody tr th {\n",
       "        vertical-align: top;\n",
       "    }\n",
       "\n",
       "    .dataframe thead th {\n",
       "        text-align: right;\n",
       "    }\n",
       "</style>\n",
       "<table border=\"1\" class=\"dataframe\">\n",
       "  <thead>\n",
       "    <tr style=\"text-align: right;\">\n",
       "      <th></th>\n",
       "      <th>document</th>\n",
       "      <th>full_text</th>\n",
       "      <th>tokens</th>\n",
       "      <th>trailing_whitespace</th>\n",
       "      <th>labels</th>\n",
       "      <th>embedded_text</th>\n",
       "    </tr>\n",
       "  </thead>\n",
       "  <tbody>\n",
       "    <tr>\n",
       "      <th>0</th>\n",
       "      <td>7</td>\n",
       "      <td>Design Thinking for innovation reflexion-Avril...</td>\n",
       "      <td>[Design, Thinking, for, innovation, reflexion,...</td>\n",
       "      <td>[True, True, True, True, False, False, True, F...</td>\n",
       "      <td>[O, O, O, O, O, O, O, O, O, B-NAME_STUDENT, I-...</td>\n",
       "      <td>[[0.07101683107229313, -0.6280221442458723, 0....</td>\n",
       "    </tr>\n",
       "  </tbody>\n",
       "</table>\n",
       "</div>"
      ],
      "text/plain": [
       "   document                                          full_text  \\\n",
       "0         7  Design Thinking for innovation reflexion-Avril...   \n",
       "\n",
       "                                              tokens  \\\n",
       "0  [Design, Thinking, for, innovation, reflexion,...   \n",
       "\n",
       "                                 trailing_whitespace  \\\n",
       "0  [True, True, True, True, False, False, True, F...   \n",
       "\n",
       "                                              labels  \\\n",
       "0  [O, O, O, O, O, O, O, O, O, B-NAME_STUDENT, I-...   \n",
       "\n",
       "                                       embedded_text  \n",
       "0  [[0.07101683107229313, -0.6280221442458723, 0....  "
      ]
     },
     "execution_count": 7,
     "metadata": {},
     "output_type": "execute_result"
    }
   ],
   "source": [
    "embedded_dataset = []\n",
    "for row in kaggle_data[\"tokens\"]:\n",
    "    embedded_essay = []\n",
    "    for token in row:\n",
    "        if token in glove_embeddings:\n",
    "            embedded_essay.append(glove_embeddings[token])\n",
    "        else:\n",
    "            # Handle out-of-vocabulary tokens\n",
    "            # For example, initialize their embedding randomly or use a special token\n",
    "            embedded_essay.append(np.random.randn(200))  # 100 is the embedding dimension\n",
    "    \n",
    "    embedded_dataset.append(embedded_essay)\n",
    "\n",
    "# Assign the embedded essays to each document\n",
    "kaggle_data[\"embedded_text\"] = embedded_dataset\n",
    "kaggle_data.head(1)"
   ]
  },
  {
   "cell_type": "code",
   "execution_count": 8,
   "id": "6c7fc1f4-e776-4f47-92a9-cad21814b5cf",
   "metadata": {},
   "outputs": [
    {
     "data": {
      "text/plain": [
       "array([ 7.10168311e-02, -6.28022144e-01,  1.73851493e-01,  1.77204999e+00,\n",
       "        5.63331059e-01, -1.00989706e+00,  2.29561850e+00, -1.95845441e-01,\n",
       "       -6.87177654e-01,  1.28750875e+00, -1.61924013e+00, -1.68458653e+00,\n",
       "       -5.73125371e-01, -7.19558884e-03,  5.05147699e-01, -1.93316333e+00,\n",
       "        9.75283636e-01,  3.94675691e-02,  1.42435607e+00,  1.20307287e-01,\n",
       "        9.29570746e-01, -4.63360819e-01, -2.63027792e+00,  1.29838464e+00,\n",
       "        7.55092376e-01,  8.41792363e-01,  6.57323745e-01, -5.15819643e-01,\n",
       "       -1.94542551e+00, -1.23025419e+00,  4.14002472e-01, -2.05754284e+00,\n",
       "        1.02384414e+00, -6.08672009e-01,  9.53094709e-01, -1.13152883e+00,\n",
       "        2.96452509e-01,  1.70068669e+00,  2.59738609e-01,  1.07972255e+00,\n",
       "        1.14373777e+00,  4.23034957e-01, -4.90318705e-01, -1.16892405e+00,\n",
       "       -1.55665573e+00, -6.41194070e-01, -1.30618059e+00,  2.25097887e-01,\n",
       "        1.55961541e+00,  2.48917644e-01,  1.78605317e+00, -1.00290539e+00,\n",
       "       -1.25257213e+00,  1.60508306e+00, -4.26472592e-02,  1.17066349e+00,\n",
       "        2.62231458e-02,  7.76413803e-02, -4.49718470e-01,  3.81623990e-01,\n",
       "       -8.18518107e-01, -2.77638077e-01, -2.93526094e-01, -3.33853150e-01,\n",
       "        9.49528927e-02, -9.98625455e-01, -7.98173084e-01, -1.80594617e+00,\n",
       "        1.19889154e+00, -8.63018981e-01, -3.23635949e-01, -7.47459163e-02,\n",
       "       -8.16378329e-01, -3.62913627e-01, -9.09463983e-01, -7.03049873e-01,\n",
       "       -6.07933346e-01,  2.37488050e+00,  3.81446231e-01, -1.61603810e+00,\n",
       "        6.09060023e-01,  1.67856126e-01,  7.21832731e-01, -2.71496966e+00,\n",
       "        1.85128544e+00, -1.04144740e+00, -2.34752189e-02,  1.52790630e+00,\n",
       "        1.88444236e-03, -9.83796110e-01,  1.16214530e+00, -1.31236826e+00,\n",
       "        5.00225055e-01, -6.93783878e-01,  7.96193913e-01, -2.40450708e+00,\n",
       "       -1.86541824e+00,  1.12699992e-01, -3.94855238e-01, -1.50356052e+00,\n",
       "        1.51932313e-01, -1.02255639e+00, -1.03003352e+00,  4.86328098e-02,\n",
       "        1.28463829e+00,  2.12796811e-01,  9.63107778e-01, -2.23950458e-01,\n",
       "        9.61978445e-01,  4.13718910e-01,  1.58304933e+00, -1.80371562e+00,\n",
       "       -6.03097063e-01,  4.35520052e-01,  7.30336498e-01, -2.75100025e-01,\n",
       "       -2.53249231e-01, -7.78531355e-01,  1.46696991e+00,  1.29797870e+00,\n",
       "       -1.12204255e-01,  8.07612477e-01,  6.60929077e-01,  4.50411025e-01,\n",
       "        4.48477143e-01, -1.13734160e+00,  3.56970139e-02, -8.66473557e-01,\n",
       "        3.29372806e-01, -1.06421370e+00, -8.68820491e-01, -2.14881450e+00,\n",
       "       -8.21783175e-01, -2.86356133e-01, -8.53015597e-01,  6.04242224e-01,\n",
       "       -2.24133460e-01,  9.26008569e-01, -1.13552116e+00, -1.44720114e-01,\n",
       "       -7.39518285e-01,  6.26224771e-01,  8.75470227e-01,  1.81022416e+00,\n",
       "        1.40613433e-01,  9.34874393e-02, -1.34957710e-01,  8.62564307e-01,\n",
       "       -4.08923262e-01,  2.85175097e-01,  6.91633464e-01,  1.50819426e+00,\n",
       "        9.22319501e-01,  2.29487980e-02, -2.51477155e-01, -1.06424897e+00,\n",
       "        1.76606385e+00, -6.53305642e-02,  7.72004407e-01, -2.61468405e-01,\n",
       "       -2.29497562e-02,  5.00548831e-01,  1.56297241e+00,  3.51556949e-01,\n",
       "       -8.11232850e-01,  2.56295617e-02, -5.06236240e-01,  2.07437608e+00,\n",
       "       -9.34831104e-01, -8.22515598e-01,  5.17561297e-01, -4.44730563e-01,\n",
       "        6.29754749e-01, -2.17748185e+00,  2.19094009e-01,  1.34490546e+00,\n",
       "        1.18733995e+00,  9.14879974e-01, -1.00427379e-01, -6.69376758e-01,\n",
       "        1.68345901e+00, -1.91384645e+00, -1.05422520e-01,  3.32846191e-01,\n",
       "        1.27531859e+00,  7.04650701e-01, -1.61550834e+00, -7.24446166e-01,\n",
       "       -9.81680695e-01, -1.37757310e-01, -1.25694287e+00, -2.30074090e+00,\n",
       "        8.90181568e-01,  2.21734381e-02, -4.27193285e-01,  1.39029222e-01,\n",
       "       -4.65594488e-01,  1.29109706e+00, -8.90804199e-01, -5.90877173e-01])"
      ]
     },
     "execution_count": 8,
     "metadata": {},
     "output_type": "execute_result"
    }
   ],
   "source": [
    "embedded_dataset[0][0]"
   ]
  },
  {
   "cell_type": "markdown",
   "id": "2c9309f5-a874-4d19-81d6-33c754b77433",
   "metadata": {},
   "source": [
    "### Sanity check to ensure that the tokens are the same length as the embedded representations"
   ]
  },
  {
   "cell_type": "markdown",
   "id": "0fdfca08-0c95-40d4-aefb-c28e7bffa9fc",
   "metadata": {},
   "source": [
    "Here, we check to make sure that number of tokens and labels for each document is equal to the number of embedded tokens."
   ]
  },
  {
   "cell_type": "code",
   "execution_count": 9,
   "id": "ec0b16f8-64d6-4608-ab03-6293f91a059a",
   "metadata": {},
   "outputs": [
    {
     "name": "stdout",
     "output_type": "stream",
     "text": [
      "563\n",
      "753\n",
      "753\n"
     ]
    }
   ],
   "source": [
    "# Number of tokens in the first document\n",
    "print(len(kaggle_data.iloc[1]['tokens']))\n",
    "\n",
    "# Number of embeded tokens in the first document\n",
    "print(len(kaggle_data.iloc[0]['embedded_text']))\n",
    "\n",
    "# Number of labels in the first document\n",
    "print(len(kaggle_data.iloc[0]['labels']))"
   ]
  },
  {
   "cell_type": "markdown",
   "id": "51f184c3-51ae-4e15-a3a3-0125df1c646b",
   "metadata": {},
   "source": [
    "# Define The Data Class"
   ]
  },
  {
   "cell_type": "markdown",
   "id": "d4c3b77a-662f-4532-8465-60747cb2a9c3",
   "metadata": {},
   "source": [
    "### Batching the training set"
   ]
  },
  {
   "cell_type": "markdown",
   "id": "2cea9de5-d1aa-4e12-a4f6-b1df19c5a5db",
   "metadata": {},
   "source": [
    "We then batch the training data set into batches of size 64. Batching data allows the torch framework \n",
    "to take advantage of  parralelization"
   ]
  },
  {
   "cell_type": "code",
   "execution_count": 10,
   "id": "e82892da-f931-4857-b06c-c54225d3b2ab",
   "metadata": {},
   "outputs": [],
   "source": [
    "# batch_size = 64\n",
    "# batch_dataloader = DataLoader(kaggle_data, batch_size=batch_size, shuffle=True)\n",
    "# batch_dataloader"
   ]
  },
  {
   "cell_type": "markdown",
   "id": "2995c3a7-2959-452d-af04-813173d17c21",
   "metadata": {},
   "source": [
    "### Instantiate our BiLSTM and its variables"
   ]
  },
  {
   "cell_type": "code",
   "execution_count": 11,
   "id": "ecfb3b0e-1f4b-4a19-9544-82a5c9af509f",
   "metadata": {},
   "outputs": [
    {
     "name": "stdout",
     "output_type": "stream",
     "text": [
      "51162\n"
     ]
    }
   ],
   "source": [
    "def prepare_sequence(seq, to_ix):\n",
    "    idxs = [to_ix[w] for w in seq]\n",
    "    return torch.tensor(idxs, dtype=torch.long)\n",
    "\n",
    "\n",
    "training_data = []\n",
    "\n",
    "for index, row in train_set.iterrows():\n",
    "    tokens = row['tokens']\n",
    "    tags = row['labels']\n",
    "    training_data.append((tokens, tags))\n",
    "word_to_ix = {}\n",
    "# For each words-list (sentence) and tags-list in each tuple of training_data\n",
    "for sent, tags in training_data:\n",
    "    for word in sent:\n",
    "        if word not in word_to_ix:  # word has not been assigned an index yet\n",
    "            word_to_ix[word] = len(word_to_ix)  # Assign each word with a unique index\n",
    "print(len(word_to_ix))\n",
    "\n",
    "tag_to_ix = {\n",
    "    \"I-URL_PERSONAL\": 0,\n",
    "    \"I-ID_NUM\": 1,\n",
    "    \"B-STREET_ADDRESS\": 2,\n",
    "    \"B-USERNAME\": 3,\n",
    "    \"B-PHONE_NUM\": 4,\n",
    "    \"I-PHONE_NUM\": 5,\n",
    "    \"I-STREET_ADDRESS\": 6,\n",
    "    \"B-EMAIL\": 7,\n",
    "    \"B-ID_NUM\": 8,\n",
    "    \"B-URL_PERSONAL\": 9,\n",
    "    \"I-NAME_STUDENT\": 10,\n",
    "    \"B-NAME_STUDENT\": 11,\n",
    "    \"O\": 12\n",
    "}\n",
    "\n",
    "# These will usually be more like 32 or 64 dimensional.\n",
    "# We will keep them small, so we can see how the weights change as we train.\n",
    "EMBEDDING_DIM = 200\n",
    "HIDDEN_DIM = 8"
   ]
  },
  {
   "cell_type": "code",
   "execution_count": 12,
   "id": "fd4beef8-2d34-41c5-b4cb-c70ca1d18fe6",
   "metadata": {},
   "outputs": [],
   "source": [
    "class LSTMTagger(nn.Module):\n",
    "\n",
    "    def __init__(self, embedding_dim, hidden_dim, vocab_size, tagset_size):\n",
    "        super(LSTMTagger, self).__init__()\n",
    "        self.hidden_dim = hidden_dim\n",
    "\n",
    "        self.word_embeddings = nn.Embedding(vocab_size, embedding_dim)\n",
    "\n",
    "        # The LSTM takes word embeddings as inputs, and outputs hidden states\n",
    "        # with dimensionality hidden_dim.\n",
    "        self.lstm = nn.LSTM(embedding_dim, hidden_dim)\n",
    "\n",
    "        # The linear layer that maps from hidden state space to tag space\n",
    "        self.hidden2tag = nn.Linear(hidden_dim, tagset_size)\n",
    "\n",
    "    def forward(self, sentence):\n",
    "        embeds = self.word_embeddings(sentence)\n",
    "        lstm_out, _ = self.lstm(embeds.view(len(sentence), 1, -1))\n",
    "        tag_space = self.hidden2tag(lstm_out.view(len(sentence), -1))\n",
    "        tag_scores = F.log_softmax(tag_space, dim=1)\n",
    "        return tag_scores"
   ]
  },
  {
   "cell_type": "code",
   "execution_count": 13,
   "id": "3bbb8aab-7b55-4d81-a309-7b13e5ac92a6",
   "metadata": {},
   "outputs": [
    {
     "ename": "NameError",
     "evalue": "name 'scores_tensor' is not defined",
     "output_type": "error",
     "traceback": [
      "\u001b[0;31m---------------------------------------------------------------------------\u001b[0m",
      "\u001b[0;31mNameError\u001b[0m                                 Traceback (most recent call last)",
      "Cell \u001b[0;32mIn[13], line 45\u001b[0m\n\u001b[1;32m     36\u001b[0m tag_scores \u001b[38;5;241m=\u001b[39m model(inputs)\n\u001b[1;32m     38\u001b[0m \u001b[38;5;66;03m# The sentence is \"the dog ate the apple\".  i,j corresponds to score for tag j\u001b[39;00m\n\u001b[1;32m     39\u001b[0m \u001b[38;5;66;03m# for word i. The predicted tag is the maximum scoring tag.\u001b[39;00m\n\u001b[1;32m     40\u001b[0m \u001b[38;5;66;03m# Here, we can see the predicted sequence below is 0 1 2 0 1\u001b[39;00m\n\u001b[0;32m   (...)\u001b[0m\n\u001b[1;32m     43\u001b[0m \u001b[38;5;66;03m# Which is DET NOUN VERB DET NOUN, the correct sequence!\u001b[39;00m\n\u001b[1;32m     44\u001b[0m \u001b[38;5;66;03m# Find the index with the highest value in each row\u001b[39;00m\n\u001b[0;32m---> 45\u001b[0m max_indices \u001b[38;5;241m=\u001b[39m torch\u001b[38;5;241m.\u001b[39margmax(\u001b[43mscores_tensor\u001b[49m, dim\u001b[38;5;241m=\u001b[39m\u001b[38;5;241m1\u001b[39m)\n\u001b[1;32m     47\u001b[0m \u001b[38;5;66;03m# Print the indices\u001b[39;00m\n\u001b[1;32m     48\u001b[0m \u001b[38;5;28mprint\u001b[39m(max_indices)\n",
      "\u001b[0;31mNameError\u001b[0m: name 'scores_tensor' is not defined"
     ]
    }
   ],
   "source": [
    "model = LSTMTagger(EMBEDDING_DIM, HIDDEN_DIM, len(word_to_ix), len(tag_to_ix))\n",
    "loss_function = nn.NLLLoss()\n",
    "optimizer = optim.SGD(model.parameters(), lr=0.1)\n",
    "\n",
    "# See what the scores are before training\n",
    "# Note that element i,j of the output is the score for tag j for word i.\n",
    "# Here we don't need to train, so the code is wrapped in torch.no_grad()\n",
    "with torch.no_grad():\n",
    "    inputs = prepare_sequence(training_data[0][0], word_to_ix)\n",
    "    tag_scores = model(inputs)\n",
    "    # print(tag_scores)\n",
    "\n",
    "for epoch in range(1):  # again, normally you would NOT do 300 epochs, it is toy data\n",
    "    for sentence, tags in training_data:\n",
    "        # Step 1. Remember that Pytorch accumulates gradients.\n",
    "        # We need to clear them out before each instance\n",
    "        model.zero_grad()\n",
    "\n",
    "        # Step 2. Get our inputs ready for the network, that is, turn them into\n",
    "        # Tensors of word indices.\n",
    "        sentence_in = prepare_sequence(sentence, word_to_ix)\n",
    "        targets = prepare_sequence(tags, tag_to_ix)\n",
    "\n",
    "        # Step 3. Run our forward pass.\n",
    "        tag_scores = model(sentence_in)\n",
    "\n",
    "        # Step 4. Compute the loss, gradients, and update the parameters by\n",
    "        #  calling optimizer.step()\n",
    "        loss = loss_function(tag_scores, targets)\n",
    "        loss.backward()\n",
    "        optimizer.step()\n",
    "\n",
    "# See what the scores are after training\n",
    "with torch.no_grad():\n",
    "    inputs = prepare_sequence(training_data[0][0], word_to_ix)\n",
    "    tag_scores = model(inputs)"
   ]
  },
  {
   "cell_type": "code",
   "execution_count": 14,
   "id": "36d1cc3a-538d-4fd6-8e74-24f935642bd8",
   "metadata": {},
   "outputs": [
    {
     "data": {
      "text/plain": [
       "tensor([[-9.2968e+00, -9.1190e+00, -9.6317e+00,  ..., -9.0901e+00,\n",
       "         -8.8500e+00, -1.3543e-03],\n",
       "        [-9.0199e+00, -8.9182e+00, -9.1781e+00,  ..., -9.1425e+00,\n",
       "         -8.6935e+00, -1.5050e-03],\n",
       "        [-9.4414e+00, -9.5800e+00, -9.3032e+00,  ..., -9.4669e+00,\n",
       "         -9.0670e+00, -9.6108e-04],\n",
       "        ...,\n",
       "        [-9.0629e+00, -8.8353e+00, -9.3428e+00,  ..., -8.9915e+00,\n",
       "         -8.7519e+00, -1.6096e-03],\n",
       "        [-8.3668e+00, -7.8202e+00, -8.6253e+00,  ..., -8.3537e+00,\n",
       "         -7.9248e+00, -3.5752e-03],\n",
       "        [-9.9570e+00, -1.0078e+01, -1.0163e+01,  ..., -1.0016e+01,\n",
       "         -1.0143e+01, -5.3117e-04]])"
      ]
     },
     "execution_count": 14,
     "metadata": {},
     "output_type": "execute_result"
    }
   ],
   "source": [
    "tag_scores"
   ]
  },
  {
   "cell_type": "code",
   "execution_count": 15,
   "id": "bb6d9f8a-070a-4240-b7d9-a2fc83f5946c",
   "metadata": {},
   "outputs": [
    {
     "name": "stdout",
     "output_type": "stream",
     "text": [
      "tensor([12, 12, 12, 12, 12, 12, 12, 12, 12, 12, 12, 12, 12, 12, 12, 12, 12, 12,\n",
      "        12, 12, 12, 12, 12, 12, 12, 12, 12, 12, 12, 12, 12, 12, 12, 12, 12, 12,\n",
      "        12, 12, 12, 12, 12, 12, 12, 12, 12, 12, 12, 12, 12, 12, 12, 12, 12, 12,\n",
      "        12, 12, 12, 12, 12, 12, 12, 12, 12, 12, 12, 12, 12, 12, 12, 12, 12, 12,\n",
      "        12, 12, 12, 12, 12, 12, 12, 12, 12, 12, 12, 12, 12, 12, 12, 12, 12, 12,\n",
      "        12, 12, 12, 12, 12, 12, 12, 12, 12, 12, 12, 12, 12, 12, 12, 12, 12, 12,\n",
      "        12, 12, 12, 12, 12, 12, 12, 12, 12, 12, 12, 12, 12, 12, 12, 12, 12, 12,\n",
      "        12, 12, 12, 12, 12, 12, 12, 12, 12, 12, 12, 12, 12, 12, 12, 12, 12, 12,\n",
      "        12, 12, 12, 12, 12, 12, 12, 12, 12, 12, 12, 12, 12, 12, 12, 12, 12, 12,\n",
      "        12, 12, 12, 12, 12, 12, 12, 12, 12, 12, 12, 12, 12, 12, 12, 12, 12, 12,\n",
      "        12, 12, 12, 12, 12, 12, 12, 12, 12, 12, 12, 12, 12, 12, 12, 12, 12, 12,\n",
      "        12, 12, 12, 12, 12, 12, 12, 12, 12, 12, 12, 12, 12, 12, 12, 12, 12, 12,\n",
      "        12, 12, 12, 12, 12, 12, 12, 12, 12, 12, 12, 12, 12, 12, 12, 12, 12, 12,\n",
      "        12, 12, 12, 12, 12, 12, 12, 12, 12, 12, 12, 12, 12, 12, 12, 12, 12, 12,\n",
      "        12, 12, 12, 12, 12, 12, 12, 12, 12, 12, 12, 12, 12, 12, 12, 12, 12, 12,\n",
      "        12, 12, 12, 12, 12, 12, 12, 12, 12, 12, 12, 12, 12, 12, 12, 12, 12, 12,\n",
      "        12, 12, 12, 12, 12, 12, 12, 12, 12, 12, 12, 12, 12, 12, 12, 12, 12, 12,\n",
      "        12, 12, 12, 12, 12, 12, 12, 12, 12, 12, 12, 12, 12, 12, 12, 12, 12, 12,\n",
      "        12, 12, 12, 12, 12, 12, 12, 12, 12, 12, 12, 12, 12, 12, 12, 12, 12, 12,\n",
      "        12, 12, 12, 12, 12, 12, 12, 12, 12, 12, 12, 12, 12, 12, 12, 12, 12, 12,\n",
      "        12, 12, 12, 12, 12, 12, 12, 12, 12, 12, 12, 12, 12, 12, 12, 12, 12, 12,\n",
      "        12, 12, 12, 12, 12, 12, 12, 12, 12, 12, 12, 12, 12, 12, 12, 12, 12, 12,\n",
      "        12, 12, 12, 12, 12, 12, 12, 12, 12, 12, 12, 12, 12, 12, 12, 12, 12, 12,\n",
      "        12, 12, 12, 12, 12, 12, 12, 12, 12, 12, 12, 12, 12, 12, 12, 12, 12, 12,\n",
      "        12, 12, 12, 12, 12, 12, 12, 12, 12, 12, 12, 12, 12, 12, 12, 12, 12, 12,\n",
      "        12, 12, 12, 12, 12, 12, 12, 12, 12, 12, 12, 12, 12, 12, 12, 12, 12, 12,\n",
      "        12, 12, 12, 12, 12, 12, 12, 12, 12, 12, 12, 12, 12, 12, 12, 12, 12, 12,\n",
      "        12, 12, 12, 12, 12, 12, 12, 12, 12, 12, 12, 12, 12, 12, 12, 12, 12, 12,\n",
      "        12, 12, 12, 12, 12, 12, 12, 12, 12, 12, 12, 12, 12, 12, 12, 12, 12, 12,\n",
      "        12, 12, 12, 12, 12, 12, 12, 12, 12, 12, 12, 12, 12, 12, 12, 12, 12, 12,\n",
      "        12, 12, 12, 12, 12, 12, 12, 12, 12, 12, 12, 12, 12, 12, 12, 12, 12, 12,\n",
      "        12, 12, 12, 12, 12, 12, 12, 12, 12, 12, 12, 12, 12, 12, 12, 12, 12, 12,\n",
      "        12, 12, 12, 12, 12, 12, 12, 12, 12, 12, 12, 12, 12, 12, 12, 12, 12, 12,\n",
      "        12, 12, 12, 12, 12, 12, 12, 12, 12, 12, 12, 12, 12, 12, 12, 12, 12, 12,\n",
      "        12, 12, 12, 12, 12, 12, 12, 12, 12, 12, 12, 12, 12, 12, 12, 12, 12, 12,\n",
      "        12, 12, 12, 12, 12, 12, 12, 12, 12, 12, 12, 12, 12, 12, 12, 12, 12, 12,\n",
      "        12, 12, 12, 12, 12, 12, 12, 12, 12, 12, 12, 12, 12, 12, 12, 12, 12, 12,\n",
      "        12, 12, 12, 12, 12, 12, 12, 12, 12, 12, 12, 12, 12, 12, 12, 12, 12, 12,\n",
      "        12, 12, 12, 12, 12, 12, 12, 12, 12, 12, 12, 12, 12, 12, 12, 12, 12, 12,\n",
      "        12, 12, 12, 12, 12, 12, 12, 12, 12, 12, 12, 12, 12, 12, 12, 12, 12, 12,\n",
      "        12, 12, 12, 12, 12, 12, 12, 12, 12, 12, 12, 12, 12, 12, 12, 12, 12, 12,\n",
      "        12, 12, 12, 12, 12, 12, 12, 12, 12, 12, 12, 12, 12, 12, 12])\n"
     ]
    }
   ],
   "source": [
    "    max_indices = torch.argmax(tag_scores, dim=1)\n",
    "\n",
    "    # Print the indices\n",
    "    print(max_indices)"
   ]
  }
 ],
 "metadata": {
  "kernelspec": {
   "display_name": "Python 3 (ipykernel)",
   "language": "python",
   "name": "python3"
  },
  "language_info": {
   "codemirror_mode": {
    "name": "ipython",
    "version": 3
   },
   "file_extension": ".py",
   "mimetype": "text/x-python",
   "name": "python",
   "nbconvert_exporter": "python",
   "pygments_lexer": "ipython3",
   "version": "3.11.5"
  }
 },
 "nbformat": 4,
 "nbformat_minor": 5
}
