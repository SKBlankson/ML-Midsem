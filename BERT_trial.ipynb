{
 "cells": [
  {
   "cell_type": "markdown",
   "id": "bec11f46-152a-42b3-99d9-d0d5b5b9f3b3",
   "metadata": {},
   "source": [
    "# Load Libraries"
   ]
  },
  {
   "cell_type": "code",
   "execution_count": 1,
   "id": "aeca6b19-5cce-45a3-8b08-d709264e488b",
   "metadata": {},
   "outputs": [],
   "source": [
    "import os\n",
    "import pandas as pd\n",
    "import numpy as np\n",
    "# from d2l import torch as d2l\n",
    "# from torch import nn\n",
    "from sklearn.model_selection import train_test_split\n",
    "import csv\n",
    "# import torch"
   ]
  },
  {
   "cell_type": "markdown",
   "id": "0946516d-59e1-4266-aa56-01f8d6c05ad5",
   "metadata": {},
   "source": [
    "# Load Dataset"
   ]
  },
  {
   "cell_type": "code",
   "execution_count": 2,
   "id": "f4fdf177-8832-4765-bf25-ca5c9c896d5c",
   "metadata": {},
   "outputs": [
    {
     "data": {
      "text/html": [
       "<div>\n",
       "<style scoped>\n",
       "    .dataframe tbody tr th:only-of-type {\n",
       "        vertical-align: middle;\n",
       "    }\n",
       "\n",
       "    .dataframe tbody tr th {\n",
       "        vertical-align: top;\n",
       "    }\n",
       "\n",
       "    .dataframe thead th {\n",
       "        text-align: right;\n",
       "    }\n",
       "</style>\n",
       "<table border=\"1\" class=\"dataframe\">\n",
       "  <thead>\n",
       "    <tr style=\"text-align: right;\">\n",
       "      <th></th>\n",
       "      <th>document</th>\n",
       "      <th>full_text</th>\n",
       "      <th>tokens</th>\n",
       "      <th>trailing_whitespace</th>\n",
       "      <th>labels</th>\n",
       "    </tr>\n",
       "  </thead>\n",
       "  <tbody>\n",
       "    <tr>\n",
       "      <th>0</th>\n",
       "      <td>7</td>\n",
       "      <td>Design Thinking for innovation reflexion-Avril...</td>\n",
       "      <td>[Design, Thinking, for, innovation, reflexion,...</td>\n",
       "      <td>[True, True, True, True, False, False, True, F...</td>\n",
       "      <td>[O, O, O, O, O, O, O, O, O, B-NAME_STUDENT, I-...</td>\n",
       "    </tr>\n",
       "    <tr>\n",
       "      <th>1</th>\n",
       "      <td>10</td>\n",
       "      <td>Diego Estrada\\n\\nDesign Thinking Assignment\\n\\...</td>\n",
       "      <td>[Diego, Estrada, \\n\\n, Design, Thinking, Assig...</td>\n",
       "      <td>[True, False, False, True, True, False, False,...</td>\n",
       "      <td>[B-NAME_STUDENT, I-NAME_STUDENT, O, O, O, O, O...</td>\n",
       "    </tr>\n",
       "    <tr>\n",
       "      <th>2</th>\n",
       "      <td>16</td>\n",
       "      <td>Reporting process\\n\\nby Gilberto Gamboa\\n\\nCha...</td>\n",
       "      <td>[Reporting, process, \\n\\n, by, Gilberto, Gambo...</td>\n",
       "      <td>[True, False, False, True, True, False, False,...</td>\n",
       "      <td>[O, O, O, O, B-NAME_STUDENT, I-NAME_STUDENT, O...</td>\n",
       "    </tr>\n",
       "    <tr>\n",
       "      <th>3</th>\n",
       "      <td>20</td>\n",
       "      <td>Design Thinking for Innovation\\n\\nSindy Samaca...</td>\n",
       "      <td>[Design, Thinking, for, Innovation, \\n\\n, Sind...</td>\n",
       "      <td>[True, True, True, False, False, True, False, ...</td>\n",
       "      <td>[O, O, O, O, O, B-NAME_STUDENT, I-NAME_STUDENT...</td>\n",
       "    </tr>\n",
       "    <tr>\n",
       "      <th>4</th>\n",
       "      <td>56</td>\n",
       "      <td>Assignment:  Visualization Reflection  Submitt...</td>\n",
       "      <td>[Assignment, :,   , Visualization,  , Reflecti...</td>\n",
       "      <td>[False, False, False, False, False, False, Fal...</td>\n",
       "      <td>[O, O, O, O, O, O, O, O, O, O, O, O, B-NAME_ST...</td>\n",
       "    </tr>\n",
       "  </tbody>\n",
       "</table>\n",
       "</div>"
      ],
      "text/plain": [
       "   document                                          full_text  \\\n",
       "0         7  Design Thinking for innovation reflexion-Avril...   \n",
       "1        10  Diego Estrada\\n\\nDesign Thinking Assignment\\n\\...   \n",
       "2        16  Reporting process\\n\\nby Gilberto Gamboa\\n\\nCha...   \n",
       "3        20  Design Thinking for Innovation\\n\\nSindy Samaca...   \n",
       "4        56  Assignment:  Visualization Reflection  Submitt...   \n",
       "\n",
       "                                              tokens  \\\n",
       "0  [Design, Thinking, for, innovation, reflexion,...   \n",
       "1  [Diego, Estrada, \\n\\n, Design, Thinking, Assig...   \n",
       "2  [Reporting, process, \\n\\n, by, Gilberto, Gambo...   \n",
       "3  [Design, Thinking, for, Innovation, \\n\\n, Sind...   \n",
       "4  [Assignment, :,   , Visualization,  , Reflecti...   \n",
       "\n",
       "                                 trailing_whitespace  \\\n",
       "0  [True, True, True, True, False, False, True, F...   \n",
       "1  [True, False, False, True, True, False, False,...   \n",
       "2  [True, False, False, True, True, False, False,...   \n",
       "3  [True, True, True, False, False, True, False, ...   \n",
       "4  [False, False, False, False, False, False, Fal...   \n",
       "\n",
       "                                              labels  \n",
       "0  [O, O, O, O, O, O, O, O, O, B-NAME_STUDENT, I-...  \n",
       "1  [B-NAME_STUDENT, I-NAME_STUDENT, O, O, O, O, O...  \n",
       "2  [O, O, O, O, B-NAME_STUDENT, I-NAME_STUDENT, O...  \n",
       "3  [O, O, O, O, O, B-NAME_STUDENT, I-NAME_STUDENT...  \n",
       "4  [O, O, O, O, O, O, O, O, O, O, O, O, B-NAME_ST...  "
      ]
     },
     "execution_count": 2,
     "metadata": {},
     "output_type": "execute_result"
    }
   ],
   "source": [
    "kaggle_data = pd.read_json('train.json')\n",
    "kaggle_data.head()"
   ]
  },
  {
   "cell_type": "markdown",
   "id": "6a6c5c08-0835-4a24-a777-d68efe089ecf",
   "metadata": {},
   "source": [
    "# Split the dataset into train and set"
   ]
  },
  {
   "cell_type": "code",
   "execution_count": 3,
   "id": "a279c23f-59ac-4e4f-958e-fd417f409837",
   "metadata": {},
   "outputs": [
    {
     "data": {
      "text/html": [
       "<div>\n",
       "<style scoped>\n",
       "    .dataframe tbody tr th:only-of-type {\n",
       "        vertical-align: middle;\n",
       "    }\n",
       "\n",
       "    .dataframe tbody tr th {\n",
       "        vertical-align: top;\n",
       "    }\n",
       "\n",
       "    .dataframe thead th {\n",
       "        text-align: right;\n",
       "    }\n",
       "</style>\n",
       "<table border=\"1\" class=\"dataframe\">\n",
       "  <thead>\n",
       "    <tr style=\"text-align: right;\">\n",
       "      <th></th>\n",
       "      <th>document</th>\n",
       "      <th>full_text</th>\n",
       "      <th>tokens</th>\n",
       "      <th>trailing_whitespace</th>\n",
       "      <th>labels</th>\n",
       "    </tr>\n",
       "  </thead>\n",
       "  <tbody>\n",
       "    <tr>\n",
       "      <th>0</th>\n",
       "      <td>7</td>\n",
       "      <td>Design Thinking for innovation reflexion-Avril...</td>\n",
       "      <td>[Design, Thinking, for, innovation, reflexion,...</td>\n",
       "      <td>[True, True, True, True, False, False, True, F...</td>\n",
       "      <td>[O, O, O, O, O, O, O, O, O, B-NAME_STUDENT, I-...</td>\n",
       "    </tr>\n",
       "    <tr>\n",
       "      <th>1</th>\n",
       "      <td>10</td>\n",
       "      <td>Diego Estrada\\n\\nDesign Thinking Assignment\\n\\...</td>\n",
       "      <td>[Diego, Estrada, \\n\\n, Design, Thinking, Assig...</td>\n",
       "      <td>[True, False, False, True, True, False, False,...</td>\n",
       "      <td>[B-NAME_STUDENT, I-NAME_STUDENT, O, O, O, O, O...</td>\n",
       "    </tr>\n",
       "    <tr>\n",
       "      <th>2</th>\n",
       "      <td>16</td>\n",
       "      <td>Reporting process\\n\\nby Gilberto Gamboa\\n\\nCha...</td>\n",
       "      <td>[Reporting, process, \\n\\n, by, Gilberto, Gambo...</td>\n",
       "      <td>[True, False, False, True, True, False, False,...</td>\n",
       "      <td>[O, O, O, O, B-NAME_STUDENT, I-NAME_STUDENT, O...</td>\n",
       "    </tr>\n",
       "    <tr>\n",
       "      <th>3</th>\n",
       "      <td>20</td>\n",
       "      <td>Design Thinking for Innovation\\n\\nSindy Samaca...</td>\n",
       "      <td>[Design, Thinking, for, Innovation, \\n\\n, Sind...</td>\n",
       "      <td>[True, True, True, False, False, True, False, ...</td>\n",
       "      <td>[O, O, O, O, O, B-NAME_STUDENT, I-NAME_STUDENT...</td>\n",
       "    </tr>\n",
       "    <tr>\n",
       "      <th>4</th>\n",
       "      <td>56</td>\n",
       "      <td>Assignment:  Visualization Reflection  Submitt...</td>\n",
       "      <td>[Assignment, :,   , Visualization,  , Reflecti...</td>\n",
       "      <td>[False, False, False, False, False, False, Fal...</td>\n",
       "      <td>[O, O, O, O, O, O, O, O, O, O, O, O, B-NAME_ST...</td>\n",
       "    </tr>\n",
       "  </tbody>\n",
       "</table>\n",
       "</div>"
      ],
      "text/plain": [
       "   document                                          full_text  \\\n",
       "0         7  Design Thinking for innovation reflexion-Avril...   \n",
       "1        10  Diego Estrada\\n\\nDesign Thinking Assignment\\n\\...   \n",
       "2        16  Reporting process\\n\\nby Gilberto Gamboa\\n\\nCha...   \n",
       "3        20  Design Thinking for Innovation\\n\\nSindy Samaca...   \n",
       "4        56  Assignment:  Visualization Reflection  Submitt...   \n",
       "\n",
       "                                              tokens  \\\n",
       "0  [Design, Thinking, for, innovation, reflexion,...   \n",
       "1  [Diego, Estrada, \\n\\n, Design, Thinking, Assig...   \n",
       "2  [Reporting, process, \\n\\n, by, Gilberto, Gambo...   \n",
       "3  [Design, Thinking, for, Innovation, \\n\\n, Sind...   \n",
       "4  [Assignment, :,   , Visualization,  , Reflecti...   \n",
       "\n",
       "                                 trailing_whitespace  \\\n",
       "0  [True, True, True, True, False, False, True, F...   \n",
       "1  [True, False, False, True, True, False, False,...   \n",
       "2  [True, False, False, True, True, False, False,...   \n",
       "3  [True, True, True, False, False, True, False, ...   \n",
       "4  [False, False, False, False, False, False, Fal...   \n",
       "\n",
       "                                              labels  \n",
       "0  [O, O, O, O, O, O, O, O, O, B-NAME_STUDENT, I-...  \n",
       "1  [B-NAME_STUDENT, I-NAME_STUDENT, O, O, O, O, O...  \n",
       "2  [O, O, O, O, B-NAME_STUDENT, I-NAME_STUDENT, O...  \n",
       "3  [O, O, O, O, O, B-NAME_STUDENT, I-NAME_STUDENT...  \n",
       "4  [O, O, O, O, O, O, O, O, O, O, O, O, B-NAME_ST...  "
      ]
     },
     "execution_count": 3,
     "metadata": {},
     "output_type": "execute_result"
    }
   ],
   "source": [
    "# Split the first 90% of the data as the train set\n",
    "test_size = round(len(kaggle_data)*0.1) \n",
    "train_size = len(kaggle_data) - test_size\n",
    "\n",
    "# train_set, test_set = train_test_split(kaggle_data, test_size=len(kaggle_data)-train_size, random_state = False)\n",
    "train_set = kaggle_data.iloc[:train_size].copy()\n",
    "test_set = kaggle_data.iloc[train_size:].copy()\n",
    "\n",
    "# train_set\n",
    "test_size\n",
    "\n",
    "train_set.head()"
   ]
  },
  {
   "cell_type": "markdown",
   "id": "e3967f71-db87-44c8-b4c4-ceaf85bac7c3",
   "metadata": {},
   "source": [
    "# Word embedding with BERT"
   ]
  },
  {
   "cell_type": "markdown",
   "id": "2eab9ab1-612a-425e-ab42-649767d33bfa",
   "metadata": {},
   "source": [
    "Load the libraries"
   ]
  },
  {
   "cell_type": "code",
   "execution_count": 30,
   "id": "7fbf44dc-8d42-45d5-9f20-bf48d924b64b",
   "metadata": {},
   "outputs": [],
   "source": [
    "import torch\n",
    "from transformers import BertTokenizer, BertModel\n",
    "import logging\n",
    "import matplotlib.pyplot as plt\n",
    "import nltk\n",
    "%matplotlib inline\n",
    "pd.set_option('display.max_colwidth', None)\n"
   ]
  },
  {
   "cell_type": "markdown",
   "id": "8d0d1fc5-92c9-412b-85c9-45c787442bca",
   "metadata": {},
   "source": [
    "Load the Bert Tokenizer and NLTK to split essays into individual sentences"
   ]
  },
  {
   "cell_type": "code",
   "execution_count": 31,
   "id": "87b2cd2e-952a-48e0-9f04-c7c5f116ce3d",
   "metadata": {},
   "outputs": [],
   "source": [
    "tokenizer = BertTokenizer.from_pretrained('bert-base-uncased')"
   ]
  },
  {
   "cell_type": "code",
   "execution_count": 32,
   "id": "7cb846c4-c90e-468f-8def-22d608682673",
   "metadata": {},
   "outputs": [
    {
     "name": "stderr",
     "output_type": "stream",
     "text": [
      "[nltk_data] Downloading package punkt to\n",
      "[nltk_data]     C:\\Users\\sblan\\AppData\\Roaming\\nltk_data...\n",
      "[nltk_data]   Package punkt is already up-to-date!\n"
     ]
    },
    {
     "data": {
      "text/plain": [
       "True"
      ]
     },
     "execution_count": 32,
     "metadata": {},
     "output_type": "execute_result"
    }
   ],
   "source": [
    "nltk.download('punkt')"
   ]
  },
  {
   "cell_type": "markdown",
   "id": "bd0c4ed6-5830-44ca-9a04-f0c8c46c4414",
   "metadata": {},
   "source": [
    "Define a function to split given text into an array of sentences"
   ]
  },
  {
   "cell_type": "code",
   "execution_count": 33,
   "id": "a878d9d7-2e78-4c81-93be-dd6e682eab46",
   "metadata": {},
   "outputs": [
    {
     "data": {
      "text/plain": [
       "6126                                                                                                                                                                                                                                                                                                                                                                                                                                                                                                                                                                                                                                                                                                                                                                                                                                                                                                                                                                                                                                                                                                                                                                                                                                                                                                                                                                                                                                                                                                                                                                                                                                                                                                                                                                                                                                                                                                                                                                                                                                                                                                                                                                                                                                                                                                                                                                                                                                                                                                                                                                                                                                                                                                                                                                                                                                                                                                                                                                                                                                                                                                                                                                                                                                                                                                                                                                                 [Learning Launch\\n\\nChallenge  I am a UX/UI Lead for a large energy company., I create workflows and interfaces for engineers  to work more efficiently and effectively., The goal of many of my projects is to redesign an  outdated software interface to make it more intuitive for new engineers., The challenge is that  engineers approach project design differently, depending on the region of the world., Selection  I use the Learning Launch approach because, given the broad scope and design variables, it  allows me to ideate and test various interface designs with engineers., By watching them use  these quick prototypes, I can quickly iterate to find a solution that will work well for all users., Application  As with all Design Thinking processes, it is important to start with a definitive goal in mind and a  deep understanding of the audience., Once the business requirements/goals are determined, the  process begins., When selecting the users for this research, I select 10-20 engineers who represent the largest  office regions., Recorded remote interviews and observations regarding the current interface and  expectations help to uncover insights that can’t be found using purely survey and analytical  data., I start by asking questions regarding their experience with the software, what they  currently like and dislike about the software, and their background., I then ask them to perform  6-8 primary software tasks and have them use think-aloud protocol to describe why they are  making certain decisions as they step through the tasks., I follow this series of tests with a  post-test debriefing, asking what they found confusing, what could be better, and if there are  features they’d like to add or remove., I subsequently send them an SUS (System Usability  Scale) survey regarding their experience to get an analytical baseline for usability and a few  follow up questions., Next, ideation takes place based on insights found from observations and interviews., This  usually occurs as a series of mind mapping / whiteboarding / post-it note sessions with my team., By clustering many of the observations, we are able to determine the primary user pain points  across regions and platforms., We are often able to simplify how a certain software process  currently works by eliminating several steps that users found unhelpful or unnecessary., From here, I create a quick prototype that focuses on functionality and test it with the same set  of users., If they find the new workflow/update meets the goals that we set out to accomplish,  then the prototype is tested with a larger group of engineers before going into actual production  and development., If the prototype does not meet the goals, needs and expectations of the  project and the users, another prototype will be created and tested., If the prototype does test  well with the larger audience, then a full design/development/user testing plan is put into place., Insight  What I learn from performing this method of design thinking is that allowing the users to interact  with quick prototypes prior to full development allows for much more truthful feedback than with  a survey., It also leads to much better results than simply interviewing and proceeding with what  our team feels is right., By allowing the users to interact with a prototype and get their real-time  feedback on the system, we are able to take a fairly accurate glimpse of the future state of the  software without having to invest much time or money., Approach  An alternative approach to this challenge would be Visualization/Visual Thinking., By working  with the engineers in groups of stakeholders, as well as individually, and starting with a workflow  diagram of current software processes, we can mark up/edit the diagram to establish a better,  more intuitive flow., Once the interviews/design sessions are complete, this data can be  aggregated and analyzed., Commonalities in the data patterns will allow us to create software  workflow solutions that will work across the groups and regions.]\n",
       "6127                                                                                                                                                                                                                                                                                                                                                                                                                                                                                                                                                                                                                                                                                                                                                                                                                                                                                                                                                                                                                                                                                                                                                                                                                                                                                                                                                                                                                                                                                                                                                                                                                                                                                                                                                                                                                                                                                                                                                                                                                                                                                                                                                                                                                                                                                                                                                                                                                                                                                                                                                                                                                                                                                                                                                                                                                                                                                                                                                                                                                                                                                                                                                                                                                                                                                                                                                                                                                                                                                                                                                               [Reflection – Mind Mapping\\n\\nChallenge\\n\\nI am a student and I would like to write about my experience in a club that I am a part of., Entrepreneurship Cell, the club that I work for, nurture values and creates a start-up culture at my  university., We help start-ups grow and incubate through our club and conduct various sessions,  events, and competitions to spread awareness and help elicit right ideas in minds of many., We host  “Think-Tank” session wherein club members are given an opportunity to present their ideas, discuss  ideas, or talk about any topic relevant in the entrepreneurial ecosystem., We have planned to make  these sessions public and give this opportunity to all the students, and faculty of our university., Selection and Application\\n\\nWe decided to use the tool of Mind Mapping to structure the learning experience of the club  members., Mind Mapping allowed us to look for patterns and gain deeper insights., Before we started  Mind Mapping, we questioned the members for relevant skills and learning goals that could prove  beneficiary while attending or presenting during the Think-Tank session., In the ongoing sessions we  asked for special feedback from the members on relevant topics they encounter during the sessions  and the challenges that they encounter, as in, the topics that they did not understand or had to look  up on the internet or elsewhere post the session., In questionnaires we gathered quantitative and  qualitative data., We asked for topics for discussions, wishes, inspiration, own experiences, etc., After  gathering this data from members, we clustered important topics for our different sessions, wrote  them down on paper., Every one of our club members received sticky notes and were asked to ideate  a little more on this change that we planned to incorporate, individually., Before we dug in, we  created a growth mindset by focusing on the question: “What if anything were possible?”., Many  new ideas had emerged from this Design tool., We also kept a list of the outlier ideas as a source for  future inspiration., Insight and Approach\\n\\nThe Mind Mapping Tool allowed us to get a greater understanding of the Think-Tank sessions we  offer, how they connect and how a great learning transfer for club members and participants can be  reached., We broadened our repertoire by taking the participants perspective intensely and were  able to extend our program to meet the participants needs., We came up with some new blended  formats in which we added little quizzes and presentation inputs that accompany the students  during the semester or for courses they take on some topics., Another method for knowledge  transfer is that the participants write a reflection a few days after the session to reactivate their  take-away messages from the sessions., They are asked how they plan to use a tool or method of  building a start-up or a skill taught during the session., We also tried out many different online tools  for more methodological mix and online webinars and decided afterwards which ones worked best  (from the club members and the participants experience and feedback)., A special challenge was the  change to a completely digital format of our Think-Tank sessions because of Covid19., Despite the  requirement to incorporate this change to our Think-Tank session, we still launched the ideas we  gathered and continuously use feedback rounds in the sessions to keep the iterative process going  and share newly gained knowledge within our team., The possibility of organizing and visualizing  through the Mind Mapping allowed us to connect different stakeholders input and ideas and had a  big impact on our repertoire., For future design challenges I would use the Mind Mapping Tool again., I would try to include the different stakeholders more intensely though by making them part of the  whole process.]\n",
       "6128                                                                                                                                                                                                                                                                                                                                                                                                                                                                                                                                                                                                                                                                                                                                                                                                                                                                                                                                                                                                                                                                                                                                                                                                                                                                                                                                                                                                                                                                                                                                                                                                                                                                                                                                                                                                                                                                                                                                                                                                                                                                                                                                                                                                                                                                                                                                                                                                                                                                                                                                                                                                                                                                                                                                                                                                                                                                                                                                                                                                                                                                                                                                                                                                                                                                                                                                                                                                                                                                                                                                                                                                                                                                                                                                                                                                                                                                                                                                                                                                                                                                                                                                                                                                                                                                                                                                                                                                                                                                                                                                                                                                                                                                                                                                                                                                                                                                                                                                                                           [Example Reflection - Mind Mapping\\n\\nChallenge & Selection\\n\\nIn my country, the law will soon come into force, which will severely restrict the development\\n\\nof one of the key sales of our company., Around the law of very much information., one is\\n\\nauthentic, the other has only logical conclusions., At the same time, the sales channel at the\\n\\nmoment is quite developed and brings very good results., For the systematization of all\\n\\ninformation, its visualization, for finding unobvious connections and finding interesting\\n\\nsolutions for support and further development of the sales channel, I decided to use Mind\\n\\nMapping\\n\\nApplication\\n\\nTo create the maps, I decided to use the on-line tool to build Mind maps –Coggle., I marked the\\n\\ncentral theme and we began to write out all the facts and thoughts on this topic., I must say that\\n\\nI originally made two maps., one developed a profile group., a group that was always engaged in\\n\\nthis sales channel or was deeply in this topic., With this group, we brought all the obvious facts\\n\\nand added further visual displays., we did this already on a printed map by hand., each\\n\\nsupplemented the fact or information of another team member., so I wanted to make sure that\\n\\nall members of the team understand about the same and visualize facts and information., To\\n\\nminimize the subjective perception of facts and information., Another card was created by a\\n\\ngroup that was never involved in sales., In this group for another look and interpretation of\\n\\nknown facts when creating Mind mapp I used the method described in magazine Harvard\\n\\nBusiness Review Russia may 2018 by the host Hal Gregersen \"flurry of questions\"., For every\\n\\nknown fact\\obstacle development of the sales channel this group generated a \"flurry of\\n\\nquestions.\", The result of these two cards were interesting ideas of the use of automata in the\\n\\ngenus instead of some sales outlets and a few very interesting ideas that require additional\\n\\ndevelopment., Insight\\n\\nI realized that this tool will be one of the main tools for me to analyze, assimilate a large\\n\\nnumber of inofomatsii different people, as well as a simple way to find the relationship\\n\\nbetween the facts., Approach\\n\\nNext time I would mix up the groups, which this time were too crystalline., One was completely\\n\\nin the subject matter, a friend is not at all in the subject., One used the usual approach when\\n\\ncreating ..., another slightly unusual, mixed approach with the simulacrum of brainstorming.]\n",
       "6129                                                                                                                                                                                                                                                                                                                                                                                                                                                                                                                                                                                                                                                                                                                                                                                                                                                                                                                                                                                                                                                                                                                                                                                                                                                                                                                                                                                                                                                                                                                                                                                                                                                                                                                                                                                                                                                                                                                                                                                                                                                                                                                                                                                                                                                                                                                                                                                                                                                                                                                                                                                                                                                                                                                                                                                                                                                                                                                                                                                                                                                                                                                                                                                                                                                                                                                                                                                                                                                                                                                                                                                                                                                                                                                                                                                                                                                                                                                                                                                                                                                                                                                                                                                                                                                                                                                                                                                                                                                                                                                                                                                                                                                                                                                                                                                                                                                                                                                                                                                                                                                                                                                                                                                                                                                                                                                                                                                                                                                                                                                                                                                                                                                                                                                                                                                                                                                                                                                                          [Company General Use\\n\\nElements:\\n\\n1., Challenge: Describe your challenge, including all relevant information., 2., Selection: In your own words, briefly describe the tool you selected (e.g., what it is and why you\\n\\nselected it for your challenge -- including any appropriate video lecture references)., 3., Application: Describe how you applied the tool you selected to your challenge (e.g., what you did\\n\\nand how the tool was applied effectively or ineffectively)., 4., Insight: Describe the insight you gained from applying the tool you selected to your challenge (e.g.,\\n\\nhow an insight affected your thinking about the challenge and about design thinking more broadly)., 5., Approach: Describe what you might do differently next time -- applying the same tool you selected\\n\\nor a different one -- and the reason(s) why., Notes:\\n\\nThe rubric also includes a score for organization., You should strive to write in a clear and compelling  way, and ensure that your descriptions flow logically., Your completed reflection should be written in English and be between five and ten paragraphs in  length., When complete, you will upload your reflection (PDF file only) for peer review, which will  determine your grade for this assignment., After uploading your reflection, you will be prompted to  review three of your peers' submissions., To pass this assignment, your peers must score your reflection an average of two or above, based on  the rubric criteria., To successfully complete the course, you must complete your peer reviews and pass  this assignment., Company General Use\\n\\nChallenge]\n",
       "6130    [1 | P a g e\\n\\nExample Reflection – Visualization\\n\\nChallenge\\n\\nA review of Customer Satisfaction newsletter revealed plummeting customer satisfaction ratings, citing  “billing issues” as one of the priorities for improvement., We were running “blind” on factors  contributing to the poor billing experience and no visibility existed into the business., This prompted a  design thinking effort to understand the issue at hand., Furthermore, the project must deliver a short  term and a long-term solution., The goal is to deliver the short-term solution no later than 30 business  days and the long-term solution within six months., To that end, I organized a full day workshop to scope  the initiative and to come up with possible design thinking approaches to solve the issue at hand., Selection\\n\\nAs a Business Architect and a Design Manager, I have come to a realization that there is no one “silver  bullet” or a one-size fits all tool to tackle design challenges., Since design thinking problems does not  involve a linear, straightforward approach, I typically use a combination of tools to address real world  problems., I first leveraged the “Ethnography” tool1 to get a pulse of customer issues in a quick and economical  way., I created customer surveys to understand the voice of the customers., The Verbatim listing from  the customer satisfaction study helped me obtain a good pulse of the customer issues and their  unarticulated needs., As the project progressed, I employed other design thinking tools including  Visualization, Brainstorming, Story Telling and Learning Launch tools., Application and Insight\\n\\nRecognizing that design thinking is not only about processes and questions but also about real people, I  paid close attention particularly to the human dimensions aspect., To maximize success, I utilized a  learning mindset, leveraged broad repertoire by thinking outside the box and focused my energy  surrounding the customer empathy., The nuggets gained through the analysis of customer satisfaction  study was a game changer., From there, I started to understand the customer journey by focusing on  customer issues and their requirements front and center., Interesting insights then began to emerge., I then used the visualization tool to present the data in a tangible and concrete format., This enabled the  project team to comprehend and prioritize the problems at hand., Using the visualization tool, I ranked  the top three (3) issues based on those attributes that had the biggest impact on customer satisfaction,  namely, Accuracy of Bills, On Time invoicing, and Average Cycles of late invoices not processed on time., From there, we used the brainstorming tool, a structured technique aimed at idea generation., We came  up with trigger questions and multiple rounds of silent idea writing to identify potential root causes of  the problem., This collaborative approach helped us to enhance the quality of the idea generation  significantly., I then mapped the current state “as-is” process and the future state “to-be” process with  clear hand-offs from one stakeholder to the next., I built the Value Stream activities into the process  map and outlined wastes in the process., This action provided us with the required focus for automating  manual process steps as well as laid the foundation for the business case., 1Design Thinking for Innovation Module 3 – The MeYouHealth Story\\n\\n2 | P a g e\\n\\nTo address the issues, I spawned a cross-functional project team comprising of service delivery,  provisioning, billing, software development, sales, and system personnel., Each member of the cross- functional team focused on the voice of the customers and supported each other in an open  environment., We knew that there was no blame, just a problem that if resolved would benefit the  company and enhance the customer experience., I facilitated weekly milestone reviews with the project team., Each member of the team took  accountability for their actions knowing they could make a substantial contribution to the bottom line and  customer satisfaction., Additionally, they engaged the resources outside their own areas of expertise to  resolve the overall issue., I collected benchmark of billing data to determine the intervals between the average number of days  between customer acceptance and first bill., I then set milestones for improvement based on that  benchmark., The project was particularly challenging because the order entry and tracking system did not  feed directly into the billing system., However, I established action plans with clear timelines, roles and  responsibilities., As a short-term measure, the project team generated weekly reports showing orders reaching customer  acceptance and notice of disconnects for billing team visibility to enable them to generate timely invoices  and disconnect actions., As a long-term measure, I negotiated approval of a business case for automating  the billing process., Once I gained approval, I worked with the development team on automation,  eliminating the necessity for manual searches for first bill date; or relying upon account managers, sales  staff, or customers to tell billing staff when billing needed to take place., As the project progressed, it  provided opportunities to educate sales staff on setting appropriate client expectations for billing., The automated process (long-term measure) significantly improved billing efficiencies leading to a 58  percent improvement in the number of orders billed within 30 days., This was really the main issue from  the initial customer satisfaction (verbatim) study., Additionally, the company experienced a substantial  reduction in customer dissatisfaction with billing timeliness, as evidenced through a later customer survey  that demonstrated only six percent dissatisfied compared with the benchmark of 18 percent., The use of design thinking as a problem solving approach had a positive impact on the company’s strategy., They include, elevated customer experience by improving “book-to-bill time” with the timeliness of bills,  re-established trust thru improved billing efficiencies and improved customer satisfaction, improved  “order to cash” cycle times leading to smooth sales cycles for new services going forward and a “simple  and complete” billing experience by improving procedures, process, customer satisfaction, and  ultimately the bottom line., Approach\\n\\nAs an alternate approach, our team would leverage the “Learning Launch” design tool to take advantage  of the inherent strategic opportunity having people, process and technology impacts., This would help the  team achieve significant pay off by staying in the question and avoid knee jerk reactions., We would then  search for higher ground by employing Optimization technique, i.e., finding the solution that best exceeds  our customer experience and design needs., Not to mention, we will take the concept of “Curation” to  our hearts to cut through the complexity and find the real nuggets of wisdom., Overall, future launch\\n\\n3 | P a g e\\n\\ndesigns would help us understand the business nuances and intricacies and help our team demonstrate  to management the criticality of addressing human centered needs and the sensitivity surrounding it.]\n",
       "Name: sentences, dtype: object"
      ]
     },
     "execution_count": 33,
     "metadata": {},
     "output_type": "execute_result"
    }
   ],
   "source": [
    "def split_to_sentences(text):\n",
    "    sentences = nltk.sent_tokenize(text)\n",
    "    return sentences\n",
    "\n",
    "test_set.head(5)['sentences']"
   ]
  },
  {
   "cell_type": "code",
   "execution_count": 41,
   "id": "4485b9aa-68c4-41ab-9a6a-52070091c4d4",
   "metadata": {},
   "outputs": [],
   "source": [
    "# Create a new column that has the the sentence splits\n",
    "test_set['sentences'] = test_set['full_text'].apply(split_to_sentences)"
   ]
  },
  {
   "cell_type": "code",
   "execution_count": 43,
   "id": "8c6f4495-8b06-4917-88cd-62fe3587ce64",
   "metadata": {},
   "outputs": [],
   "source": [
    "input_ids = []\n",
    "attention_masks = []\n",
    "\n",
    "# Iterate over each row in the DataFrame\n",
    "for index, row in test_set.iterrows():\n",
    "    sentences = row['sentences']\n",
    "    \n",
    "    # For each sentence in the 'sentences' column...\n",
    "    for sentence in sentences:\n",
    "        encoded_dict = tokenizer.encode_plus(\n",
    "                            sentence,                  \n",
    "                            add_special_tokens=True,   # Add '[CLS]' and '[SEP]'\n",
    "                            max_length=100,             # Adjust sentence length\n",
    "                            pad_to_max_length=True,    # Pad/truncate sentences\n",
    "                            return_attention_mask=True,# Generate attention masks\n",
    "                            return_tensors='pt',       # Return PyTorch tensors\n",
    "                       )\n",
    "\n",
    "        input_ids.append(encoded_dict['input_ids'])\n",
    "\n",
    "        # Construct an attention mask (identifying padding/non-padding).\n",
    "        attention_masks.append(encoded_dict['attention_mask'])\n"
   ]
  },
  {
   "cell_type": "code",
   "execution_count": 44,
   "id": "65ca8b92-72e9-44ff-acef-e4d221f3578b",
   "metadata": {},
   "outputs": [
    {
     "data": {
      "text/plain": [
       "{'input_ids': tensor([[  101,  2750,  2023,  1010,  2178,  9398,  6994,  2008,  2071,  4906,\n",
       "          1999,  2023,  7551,  2003,  5107,  3989,  1010,  2073,  4620,  1997,\n",
       "          1037,  3144,  3208,  2030,  1037,  3407,  2155,  2052,  2022,  3491,\n",
       "          1010,  1999,  2344,  2000,  2156,  2029,  2765,  2062,  8702,  2005,\n",
       "          1996,  5347,  1998, 15306,  2052,  2022,  4567,  2011,  5517,  1996,\n",
       "          5876, 12515,  2092, 19205,  3070,  3855,  2077,  1010,  5052,  1996,\n",
       "          4500,  2344,  1997,  1996,  2832,  4541,  2682,  1012,   102,     0,\n",
       "             0,     0,     0,     0,     0,     0,     0,     0,     0,     0,\n",
       "             0,     0,     0,     0,     0,     0,     0,     0,     0,     0,\n",
       "             0,     0,     0,     0,     0,     0,     0,     0,     0,     0]]), 'token_type_ids': tensor([[0, 0, 0, 0, 0, 0, 0, 0, 0, 0, 0, 0, 0, 0, 0, 0, 0, 0, 0, 0, 0, 0, 0, 0,\n",
       "         0, 0, 0, 0, 0, 0, 0, 0, 0, 0, 0, 0, 0, 0, 0, 0, 0, 0, 0, 0, 0, 0, 0, 0,\n",
       "         0, 0, 0, 0, 0, 0, 0, 0, 0, 0, 0, 0, 0, 0, 0, 0, 0, 0, 0, 0, 0, 0, 0, 0,\n",
       "         0, 0, 0, 0, 0, 0, 0, 0, 0, 0, 0, 0, 0, 0, 0, 0, 0, 0, 0, 0, 0, 0, 0, 0,\n",
       "         0, 0, 0, 0]]), 'attention_mask': tensor([[1, 1, 1, 1, 1, 1, 1, 1, 1, 1, 1, 1, 1, 1, 1, 1, 1, 1, 1, 1, 1, 1, 1, 1,\n",
       "         1, 1, 1, 1, 1, 1, 1, 1, 1, 1, 1, 1, 1, 1, 1, 1, 1, 1, 1, 1, 1, 1, 1, 1,\n",
       "         1, 1, 1, 1, 1, 1, 1, 1, 1, 1, 1, 1, 1, 1, 1, 1, 1, 1, 1, 1, 1, 0, 0, 0,\n",
       "         0, 0, 0, 0, 0, 0, 0, 0, 0, 0, 0, 0, 0, 0, 0, 0, 0, 0, 0, 0, 0, 0, 0, 0,\n",
       "         0, 0, 0, 0]])}"
      ]
     },
     "execution_count": 44,
     "metadata": {},
     "output_type": "execute_result"
    }
   ],
   "source": [
    "encoded_dic"
   ]
  }
 ],
 "metadata": {
  "kernelspec": {
   "display_name": "Python 3 (ipykernel)",
   "language": "python",
   "name": "python3"
  },
  "language_info": {
   "codemirror_mode": {
    "name": "ipython",
    "version": 3
   },
   "file_extension": ".py",
   "mimetype": "text/x-python",
   "name": "python",
   "nbconvert_exporter": "python",
   "pygments_lexer": "ipython3",
   "version": "3.10.13"
  }
 },
 "nbformat": 4,
 "nbformat_minor": 5
}
